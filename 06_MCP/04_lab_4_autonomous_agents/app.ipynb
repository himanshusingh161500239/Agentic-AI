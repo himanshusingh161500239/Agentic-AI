{
 "cells": [
  {
   "cell_type": "code",
   "execution_count": 34,
   "id": "c7f7b804",
   "metadata": {},
   "outputs": [
    {
     "data": {
      "text/plain": [
       "True"
      ]
     },
     "execution_count": 34,
     "metadata": {},
     "output_type": "execute_result"
    }
   ],
   "source": [
    "import os\n",
    "from dotenv import load_dotenv\n",
    "from agents import Agent, Runner, Tool\n",
    "from agents.mcp import MCPServerStdio\n",
    "from agents import Agent, Runner, OpenAIChatCompletionsModel\n",
    "from openai import AsyncOpenAI\n",
    "from datetime import datetime\n",
    "from accounts_client import read_accounts_resource, read_strategy_resource\n",
    "from accounts import Account\n",
    "import yfinance as yf\n",
    "import asyncio\n",
    "from IPython.display import Markdown, display\n",
    "import sys\n",
    "import nest_asyncio\n",
    "\n",
    "load_dotenv(override=True)"
   ]
  },
  {
   "cell_type": "code",
   "execution_count": 77,
   "id": "07f65dd2",
   "metadata": {},
   "outputs": [],
   "source": [
    "client = AsyncOpenAI(\n",
    "    api_key=os.getenv(\"GEMINI_ACCESS_KEY\"),\n",
    "    base_url=\"https://generativelanguage.googleapis.com/v1beta/openai/\"\n",
    ")\n",
    "model = OpenAIChatCompletionsModel(\n",
    "    model=\"gemini-2.5-flash\",\n",
    "    openai_client=client\n",
    ")"
   ]
  },
  {
   "cell_type": "code",
   "execution_count": 62,
   "id": "a616b43b",
   "metadata": {},
   "outputs": [],
   "source": [
    "market_mcp={\"command\":\"uv\",\"args\":[\"run\",\"market_server.py\"]}\n",
    "\n",
    "trader_mcp_server_params=[\n",
    "    {\"command\":\"uv\",\"args\":[\"run\",\"accounts_server.py\"]},\n",
    "    {\"command\":\"uv\",\"args\":[\"run\",\"push_server.py\"]},\n",
    "    market_mcp\n",
    "]\n",
    "\n",
    "reasearcher_mcp_server_params = [\n",
    "    {\"command\": \"uvx\", \"args\": [\"mcp-server-fetch\"]},\n",
    "    {\n",
    "        \"command\": \"npx\",\n",
    "        \"args\": [\"-y\", \"@mcptools/mcp-tavily\"],\n",
    "        \"env\": {\"TAVILY_API_KEY\": os.getenv(\"TAVILY_SEARCH_API_KEY\")}\n",
    "    }\n",
    "]"
   ]
  },
  {
   "cell_type": "code",
   "execution_count": 63,
   "id": "4130fd18",
   "metadata": {},
   "outputs": [],
   "source": [
    "## Now create a MCPServerStdio for both\n",
    "researcher_mcp_servers=[MCPServerStdio(params,client_session_timeout_seconds=30) for params in reasearcher_mcp_server_params]\n",
    "trader_mcp_servers=[MCPServerStdio(params,client_session_timeout_seconds=30) for params in trader_mcp_server_params]\n",
    "mcp_servers = researcher_mcp_servers + trader_mcp_servers"
   ]
  },
  {
   "cell_type": "code",
   "execution_count": 78,
   "id": "de308fa3",
   "metadata": {},
   "outputs": [],
   "source": [
    "async def get_researcher(mcp_servers) -> Agent:\n",
    "    instructions = f\"\"\"You are a financial researcher. You are able to search the web for interesting financial news,\n",
    "    look for possible trading opportunities, and help with research.\n",
    "    Based on the request, you carry out necessary research and respond with your findings.\n",
    "    Take time to make multiple searches to get a comprehensive overview, and then summarize your findings.\n",
    "    If there isn't a specific request, then just respond with investment opportunities based on searching latest news.\n",
    "    The current datetime is {datetime.now().strftime(\"%Y-%m-%d %H:%M:%S\")}\n",
    "    \"\"\"\n",
    "    researcher = Agent(\n",
    "        name=\"Researcher\",\n",
    "        instructions=instructions,\n",
    "        model=model,\n",
    "        mcp_servers=mcp_servers,\n",
    "    )\n",
    "    return researcher"
   ]
  },
  {
   "cell_type": "code",
   "execution_count": 65,
   "id": "e63aaf3d",
   "metadata": {},
   "outputs": [],
   "source": [
    "async def get_researcher_tool(mcp_servers) -> Tool:\n",
    "    researcher = await get_researcher(mcp_servers)\n",
    "    return researcher.as_tool(\n",
    "            tool_name=\"Researcher\",\n",
    "            tool_description=\"This tool researches online for news and opportunities, \\\n",
    "                either based on your specific request to look into a certain stock, \\\n",
    "                or generally for notable financial news and opportunities. \\\n",
    "                Describe what kind of research you're looking for.\"\n",
    "        )"
   ]
  },
  {
   "cell_type": "code",
   "execution_count": 52,
   "id": "ce9b1410",
   "metadata": {},
   "outputs": [],
   "source": [
    "# research_question = \"What's the latest news on ITC?\"\n",
    "\n",
    "# for server in researcher_mcp_servers:\n",
    "#     await server.connect()\n",
    "# researcher = await get_researcher(researcher_mcp_servers)\n",
    "# result = await Runner.run(researcher, research_question, max_turns=30)\n",
    "# display(Markdown(result.final_output))"
   ]
  },
  {
   "cell_type": "code",
   "execution_count": 66,
   "id": "b3fbde9e",
   "metadata": {},
   "outputs": [
    {
     "data": {
      "text/markdown": [
       "{\"name\": \"himanshu\", \"balance\": 10000.0, \"strategy\": \"You are a day trader that aggressively buys and sells shares based on news and market conditions.\", \"holdings\": {}, \"transactions\": [], \"portfolio_value_time_series\": [[\"2025-08-26 23:00:43\", 10000.0]], \"total_portfolio_value\": 10000.0, \"total_profit_loss\": 0.0}"
      ],
      "text/plain": [
       "<IPython.core.display.Markdown object>"
      ]
     },
     "metadata": {},
     "output_type": "display_data"
    },
    {
     "data": {
      "text/markdown": [
       "You are a day trader that aggressively buys and sells shares based on news and market conditions."
      ],
      "text/plain": [
       "<IPython.core.display.Markdown object>"
      ]
     },
     "metadata": {},
     "output_type": "display_data"
    }
   ],
   "source": [
    "my_initial_strategy = \"You are a day trader that aggressively buys and sells shares based on news and market conditions.\"\n",
    "Account.get(\"Himanshu\").reset(my_initial_strategy)\n",
    "\n",
    "display(Markdown(await read_accounts_resource(\"Himanshu\")))\n",
    "display(Markdown(await read_strategy_resource(\"Himanshu\")))"
   ]
  },
  {
   "cell_type": "markdown",
   "id": "7a1f9209",
   "metadata": {},
   "source": [
    "<h3>Let's create a trader agent</h3>"
   ]
  },
  {
   "cell_type": "code",
   "execution_count": 67,
   "id": "890622cb",
   "metadata": {},
   "outputs": [
    {
     "name": "stdout",
     "output_type": "stream",
     "text": [
      "\n",
      "You are a trader that manages a portfolio of shares. Your name is Himanshu and your account is under your name, Himanshu.\n",
      "You have access to tools that allow you to search the internet for company news, check stock prices, and buy and sell shares.\n",
      "Your investment strategy for your portfolio is:\n",
      "You are a day trader that aggressively buys and sells shares based on news and market conditions.\n",
      "Your current holdings and balance is:\n",
      "{\"name\": \"himanshu\", \"balance\": 10000.0, \"strategy\": \"You are a day trader that aggressively buys and sells shares based on news and market conditions.\", \"holdings\": {}, \"transactions\": [], \"portfolio_value_time_series\": [[\"2025-08-26 23:00:43\", 10000.0], [\"2025-08-26 23:00:49\", 10000.0]], \"total_portfolio_value\": 10000.0, \"total_profit_loss\": 0.0}\n",
      "You have the tools to perform a websearch for relevant news and information.\n",
      "You have tools to check stock prices.\n",
      "You have tools to buy and sell shares.\n",
      "You have tools to save memory of companies, research and thinking so far.\n",
      "Please make use of these tools to manage your portfolio. Carry out trades as you see fit; do not wait for instructions or ask for confirmation.\n",
      "\n"
     ]
    }
   ],
   "source": [
    "agent_name = \"Himanshu\"\n",
    "\n",
    "# Using MCP Servers to read resources\n",
    "account_details = await read_accounts_resource(agent_name)\n",
    "strategy = await read_strategy_resource(agent_name)\n",
    "\n",
    "instructions = f\"\"\"\n",
    "You are a trader that manages a portfolio of shares. Your name is {agent_name} and your account is under your name, {agent_name}.\n",
    "You have access to tools that allow you to search the internet for company news, check stock prices, and buy and sell shares.\n",
    "Your investment strategy for your portfolio is:\n",
    "{strategy}\n",
    "Your current holdings and balance is:\n",
    "{account_details}\n",
    "You have the tools to perform a websearch for relevant news and information.\n",
    "You have tools to check stock prices.\n",
    "You have tools to buy and sell shares.\n",
    "You have tools to save memory of companies, research and thinking so far.\n",
    "Please make use of these tools to manage your portfolio. Carry out trades as you see fit; do not wait for instructions or ask for confirmation.\n",
    "\"\"\"\n",
    "\n",
    "prompt = \"\"\"\n",
    "Use your tools to make decisions about your portfolio.\n",
    "Investigate the news and the market, make your decision, make the trades, and respond with a summary of your actions.\n",
    "\"\"\"\n",
    "\n",
    "print(instructions)"
   ]
  },
  {
   "cell_type": "markdown",
   "id": "5037884e",
   "metadata": {},
   "source": [
    "<h3>Run the trader</h3>"
   ]
  },
  {
   "cell_type": "code",
   "execution_count": 79,
   "id": "ea70c10c",
   "metadata": {},
   "outputs": [
    {
     "name": "stdout",
     "output_type": "stream",
     "text": [
      "I have investigated the notable financial news and potential investment opportunities.\n",
      "\n",
      "**Key Financial News:**\n",
      "\n",
      "*   Nvidia's upcoming earnings report is a significant event for the AI stock market.\n",
      "*   Intel's stock experienced a jump due to news regarding a potential US government stake.\n",
      "*   The overall market is experiencing volatility due to interest rate policies and other economic factors.\n",
      "\n",
      "**Potential Investment Opportunities:**\n",
      "\n",
      "*   **Momentum Stocks:** VRT, MTZ, and HOOD were identified as having strong yearly gains but recent pullbacks.\n",
      "*   **Analyst Mentions:** The Mosaic Company (MOS), Hexcel Corporation (HXL), Portland General Electric Company (POR), and Dollar General Corporation (DG) were mentioned in recent analyst reports.\n",
      "\n",
      "I attempted to look up the share prices for Intel (INTC), VRT, MTZ, and HOOD to inform my trading decisions. However, the `lookup_share_price` tool returned a price of 0.0 for all these symbols. Without accurate and current stock prices, I am unable to make informed buying or selling decisions as per my day trading strategy. Therefore, I have not made any trades at this time.\n"
     ]
    },
    {
     "data": {
      "text/markdown": [
       "I have investigated the notable financial news and potential investment opportunities.\n",
       "\n",
       "**Key Financial News:**\n",
       "\n",
       "*   Nvidia's upcoming earnings report is a significant event for the AI stock market.\n",
       "*   Intel's stock experienced a jump due to news regarding a potential US government stake.\n",
       "*   The overall market is experiencing volatility due to interest rate policies and other economic factors.\n",
       "\n",
       "**Potential Investment Opportunities:**\n",
       "\n",
       "*   **Momentum Stocks:** VRT, MTZ, and HOOD were identified as having strong yearly gains but recent pullbacks.\n",
       "*   **Analyst Mentions:** The Mosaic Company (MOS), Hexcel Corporation (HXL), Portland General Electric Company (POR), and Dollar General Corporation (DG) were mentioned in recent analyst reports.\n",
       "\n",
       "I attempted to look up the share prices for Intel (INTC), VRT, MTZ, and HOOD to inform my trading decisions. However, the `lookup_share_price` tool returned a price of 0.0 for all these symbols. Without accurate and current stock prices, I am unable to make informed buying or selling decisions as per my day trading strategy. Therefore, I have not made any trades at this time."
      ],
      "text/plain": [
       "<IPython.core.display.Markdown object>"
      ]
     },
     "metadata": {},
     "output_type": "display_data"
    }
   ],
   "source": [
    "\n",
    "# async with asyncio.TaskGroup() as tg:\n",
    "#     for server in mcp_servers:\n",
    "#         tg.create_task(server.connect())\n",
    "\n",
    "# # Now proceed to create tools and agents\n",
    "# researcher_tool = await get_researcher_tool(researcher_mcp_servers)\n",
    "# trader = Agent(\n",
    "#     name=agent_name,\n",
    "#     instructions=instructions,\n",
    "#     tools=[researcher_tool],\n",
    "#     mcp_servers=trader_mcp_servers,\n",
    "#     model=model,\n",
    "# )\n",
    "\n",
    "\n",
    "# result = await Runner.run(trader, prompt, max_turns=10)\n",
    "# print(result.final_output)\n",
    "# display(Markdown(result.final_output))\n",
    "\n",
    "\n",
    "# Connect servers concurrently before agent/tools instantiation\n",
    "async def connect_all_servers(mcp_servers):\n",
    "    # Gather all server connections\n",
    "    await asyncio.gather(*(server.connect() for server in mcp_servers))\n",
    "\n",
    "import nest_asyncio\n",
    "nest_asyncio.apply()\n",
    "\n",
    "\n",
    "\n",
    "async def main():\n",
    "    await connect_all_servers(mcp_servers)\n",
    "    researcher_tool = await get_researcher_tool(researcher_mcp_servers)\n",
    "    trader = Agent(\n",
    "        name=agent_name,\n",
    "        instructions=instructions,\n",
    "        tools=[researcher_tool],\n",
    "        mcp_servers=trader_mcp_servers,\n",
    "        model=model,\n",
    "    )\n",
    "    result = await Runner.run(trader, prompt)\n",
    "    print(result.final_output)\n",
    "    sys.stdout.flush()\n",
    "    display(Markdown(result.final_output))\n",
    "    return result\n",
    "\n",
    "# Run\n",
    "result_main = await main()\n",
    "# print(\"Result::\",result_main)\n"
   ]
  },
  {
   "cell_type": "code",
   "execution_count": 107,
   "id": "09ddb27b",
   "metadata": {},
   "outputs": [],
   "source": [
    "from traders import Trader"
   ]
  },
  {
   "cell_type": "code",
   "execution_count": 108,
   "id": "3ebc4f57",
   "metadata": {},
   "outputs": [],
   "source": [
    "trader = Trader(\"Himanshu\",model_name=\"gemini-2.5-flash\")"
   ]
  },
  {
   "cell_type": "code",
   "execution_count": 109,
   "id": "912332db",
   "metadata": {},
   "outputs": [],
   "source": [
    "await trader.run()"
   ]
  },
  {
   "cell_type": "code",
   "execution_count": 110,
   "id": "da1053c5",
   "metadata": {},
   "outputs": [
    {
     "data": {
      "text/plain": [
       "'{\"name\": \"himanshu\", \"balance\": 10000.0, \"strategy\": \"You are a day trader that aggressively buys and sells shares based on news and market conditions.\", \"holdings\": {}, \"transactions\": [], \"portfolio_value_time_series\": [[\"2025-08-26 23:00:43\", 10000.0], [\"2025-08-26 23:00:49\", 10000.0], [\"2025-08-26 23:03:19\", 10000.0], [\"2025-08-26 23:06:22\", 10000.0], [\"2025-08-26 23:08:26\", 10000.0], [\"2025-08-26 23:11:35\", 10000.0], [\"2025-08-26 23:15:08\", 10000.0], [\"2025-08-26 23:19:41\", 10000.0], [\"2025-08-26 23:20:59\", 10000.0], [\"2025-08-26 23:21:39\", 10000.0], [\"2025-08-26 23:39:20\", 10000.0], [\"2025-08-26 23:40:51\", 10000.0], [\"2025-08-26 23:41:43\", 10000.0], [\"2025-08-26 23:56:33\", 10000.0], [\"2025-08-26 23:57:26\", 10000.0]], \"total_portfolio_value\": 10000.0, \"total_profit_loss\": 0.0}'"
      ]
     },
     "execution_count": 110,
     "metadata": {},
     "output_type": "execute_result"
    }
   ],
   "source": [
    "await read_accounts_resource(\"Himanshu\")"
   ]
  },
  {
   "cell_type": "markdown",
   "id": "fce652f1",
   "metadata": {},
   "source": [
    "<h3>Count of tools</h3>"
   ]
  },
  {
   "cell_type": "code",
   "execution_count": 112,
   "id": "ff80e47c",
   "metadata": {},
   "outputs": [
    {
     "name": "stdout",
     "output_type": "stream",
     "text": [
      "We have 5 MCP servers, and 12 tools\n"
     ]
    }
   ],
   "source": [
    "from mcp_params import trader_mcp_server_params, researcher_mcp_server_params\n",
    "\n",
    "all_params = trader_mcp_server_params + researcher_mcp_server_params(\"ed\")\n",
    "\n",
    "count = 0\n",
    "for each_params in all_params:\n",
    "    async with MCPServerStdio(params=each_params, client_session_timeout_seconds=60) as server:\n",
    "        mcp_tools = await server.list_tools()\n",
    "        count += len(mcp_tools)\n",
    "print(f\"We have {len(all_params)} MCP servers, and {count} tools\")"
   ]
  }
 ],
 "metadata": {
  "kernelspec": {
   "display_name": "agenticAI",
   "language": "python",
   "name": "python3"
  },
  "language_info": {
   "codemirror_mode": {
    "name": "ipython",
    "version": 3
   },
   "file_extension": ".py",
   "mimetype": "text/x-python",
   "name": "python",
   "nbconvert_exporter": "python",
   "pygments_lexer": "ipython3",
   "version": "3.13.4"
  }
 },
 "nbformat": 4,
 "nbformat_minor": 5
}
