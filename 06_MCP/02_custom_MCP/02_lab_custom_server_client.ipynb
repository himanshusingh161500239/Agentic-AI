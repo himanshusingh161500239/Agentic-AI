{
 "cells": [
  {
   "cell_type": "markdown",
   "id": "f3f13a34",
   "metadata": {},
   "source": [
    "<h3> Let's create our own MCP server and MCP client</h3>"
   ]
  },
  {
   "cell_type": "code",
   "execution_count": 11,
   "id": "a8d32ce1",
   "metadata": {},
   "outputs": [
    {
     "data": {
      "text/plain": [
       "True"
      ]
     },
     "execution_count": 11,
     "metadata": {},
     "output_type": "execute_result"
    }
   ],
   "source": [
    "from dotenv import load_dotenv\n",
    "from agents import Agent, Runner, trace, OpenAIChatCompletionsModel\n",
    "from agents.mcp import MCPServerStdio\n",
    "from IPython.display import display, Markdown\n",
    "from openai import AsyncOpenAI\n",
    "\n",
    "import os\n",
    "load_dotenv(override=True)\n"
   ]
  },
  {
   "cell_type": "code",
   "execution_count": 12,
   "id": "5c405cff",
   "metadata": {},
   "outputs": [],
   "source": [
    "from accounts import Account"
   ]
  },
  {
   "cell_type": "code",
   "execution_count": 13,
   "id": "6afb3c08",
   "metadata": {},
   "outputs": [
    {
     "data": {
      "text/plain": [
       "Account(name='himanshu', balance=9993.988, strategy='', holdings={'AMZN': 3}, transactions=[3 shares of AMZN at 2.004 each.], portfolio_value_time_series=[('2025-08-25 21:28:42', 10020.988), ('2025-08-25 21:28:50', 10011.988)])"
      ]
     },
     "execution_count": 13,
     "metadata": {},
     "output_type": "execute_result"
    }
   ],
   "source": [
    "account = Account.get(\"Himanshu\")\n",
    "account"
   ]
  },
  {
   "cell_type": "code",
   "execution_count": 4,
   "id": "cc449c6d",
   "metadata": {},
   "outputs": [
    {
     "data": {
      "text/plain": [
       "'Completed. Latest details:\\n{\"name\": \"himanshu\", \"balance\": 9993.988, \"strategy\": \"\", \"holdings\": {\"AMZN\": 3}, \"transactions\": [{\"symbol\": \"AMZN\", \"quantity\": 3, \"price\": 2.004, \"timestamp\": \"2025-08-25 21:28:41\", \"rationale\": \"This bookstore looks promising\"}], \"portfolio_value_time_series\": [[\"2025-08-25 21:28:42\", 10020.988]], \"total_portfolio_value\": 10020.988, \"total_profit_loss\": 20.987999999999374}'"
      ]
     },
     "execution_count": 4,
     "metadata": {},
     "output_type": "execute_result"
    }
   ],
   "source": [
    "account.buy_shares(\"AMZN\",3,\"This bookstore looks promising\")"
   ]
  },
  {
   "cell_type": "code",
   "execution_count": 14,
   "id": "80e43bad",
   "metadata": {},
   "outputs": [
    {
     "data": {
      "text/plain": [
       "'{\"name\": \"himanshu\", \"balance\": 9993.988, \"strategy\": \"\", \"holdings\": {\"AMZN\": 3}, \"transactions\": [{\"symbol\": \"AMZN\", \"quantity\": 3, \"price\": 2.004, \"timestamp\": \"2025-08-25 21:28:41\", \"rationale\": \"This bookstore looks promising\"}], \"portfolio_value_time_series\": [[\"2025-08-25 21:28:42\", 10020.988], [\"2025-08-25 21:28:50\", 10011.988], [\"2025-08-25 21:37:33\", 10062.988]], \"total_portfolio_value\": 10062.988, \"total_profit_loss\": 62.987999999999374}'"
      ]
     },
     "execution_count": 14,
     "metadata": {},
     "output_type": "execute_result"
    }
   ],
   "source": [
    "account.report()"
   ]
  },
  {
   "cell_type": "code",
   "execution_count": 15,
   "id": "4d95d870",
   "metadata": {},
   "outputs": [
    {
     "data": {
      "text/plain": [
       "[{'symbol': 'AMZN',\n",
       "  'quantity': 3,\n",
       "  'price': 2.004,\n",
       "  'timestamp': '2025-08-25 21:28:41',\n",
       "  'rationale': 'This bookstore looks promising'}]"
      ]
     },
     "execution_count": 15,
     "metadata": {},
     "output_type": "execute_result"
    }
   ],
   "source": [
    "account.list_transactions()"
   ]
  },
  {
   "cell_type": "markdown",
   "id": "64d878d5",
   "metadata": {},
   "source": [
    "<h3>Now we will wriite an MCP server and use it directly</h3>"
   ]
  },
  {
   "cell_type": "code",
   "execution_count": 16,
   "id": "55b930d7",
   "metadata": {},
   "outputs": [],
   "source": [
    "params={\"command\":\"uv\",\"args\":[\"run\",\"accounts_server.py\"]}\n",
    "async with MCPServerStdio(params=params,client_session_timeout_seconds=30) as server:\n",
    "    mcp_tools= await server.list_tools()"
   ]
  },
  {
   "cell_type": "code",
   "execution_count": 17,
   "id": "b85b8f46",
   "metadata": {},
   "outputs": [
    {
     "data": {
      "text/plain": [
       "[Tool(name='get_balance', title=None, description='Get the cash balance of the given account name.\\n\\nArgs:\\n    name: The name of the account holder\\n', inputSchema={'properties': {'name': {'title': 'Name', 'type': 'string'}}, 'required': ['name'], 'title': 'get_balanceArguments', 'type': 'object'}, outputSchema={'properties': {'result': {'title': 'Result', 'type': 'number'}}, 'required': ['result'], 'title': 'get_balanceOutput', 'type': 'object'}, annotations=None, meta=None),\n",
       " Tool(name='get_holdings', title=None, description='Get the holdings of the given account name.\\n\\nArgs:\\n    name: The name of the account holder\\n', inputSchema={'properties': {'name': {'title': 'Name', 'type': 'string'}}, 'required': ['name'], 'title': 'get_holdingsArguments', 'type': 'object'}, outputSchema={'additionalProperties': {'type': 'integer'}, 'title': 'get_holdingsDictOutput', 'type': 'object'}, annotations=None, meta=None),\n",
       " Tool(name='buy_shares', title=None, description=\"Buy shares of a stock.\\n\\nArgs:\\n    name: The name of the account holder\\n    symbol: The symbol of the stock\\n    quantity: The quantity of shares to buy\\n    rationale: The rationale for the purchase and fit with the account's strategy\\n\", inputSchema={'properties': {'name': {'title': 'Name', 'type': 'string'}, 'symbol': {'title': 'Symbol', 'type': 'string'}, 'quantity': {'title': 'Quantity', 'type': 'integer'}, 'rationale': {'title': 'Rationale', 'type': 'string'}}, 'required': ['name', 'symbol', 'quantity', 'rationale'], 'title': 'buy_sharesArguments', 'type': 'object'}, outputSchema={'properties': {'result': {'title': 'Result', 'type': 'number'}}, 'required': ['result'], 'title': 'buy_sharesOutput', 'type': 'object'}, annotations=None, meta=None),\n",
       " Tool(name='sell_shares', title=None, description=\"Sell shares of a stock.\\n\\nArgs:\\n    name: The name of the account holder\\n    symbol: The symbol of the stock\\n    quantity: The quantity of shares to sell\\n    rationale: The rationale for the sale and fit with the account's strategy\\n\", inputSchema={'properties': {'name': {'title': 'Name', 'type': 'string'}, 'symbol': {'title': 'Symbol', 'type': 'string'}, 'quantity': {'title': 'Quantity', 'type': 'integer'}, 'rationale': {'title': 'Rationale', 'type': 'string'}}, 'required': ['name', 'symbol', 'quantity', 'rationale'], 'title': 'sell_sharesArguments', 'type': 'object'}, outputSchema={'properties': {'result': {'title': 'Result', 'type': 'number'}}, 'required': ['result'], 'title': 'sell_sharesOutput', 'type': 'object'}, annotations=None, meta=None),\n",
       " Tool(name='change_strategy', title=None, description='At your discretion, if you choose to, call this to change your investment strategy for the future.\\n\\nArgs:\\n    name: The name of the account holder\\n    strategy: The new strategy for the account\\n', inputSchema={'properties': {'name': {'title': 'Name', 'type': 'string'}, 'strategy': {'title': 'Strategy', 'type': 'string'}}, 'required': ['name', 'strategy'], 'title': 'change_strategyArguments', 'type': 'object'}, outputSchema={'properties': {'result': {'title': 'Result', 'type': 'string'}}, 'required': ['result'], 'title': 'change_strategyOutput', 'type': 'object'}, annotations=None, meta=None)]"
      ]
     },
     "execution_count": 17,
     "metadata": {},
     "output_type": "execute_result"
    }
   ],
   "source": [
    "mcp_tools"
   ]
  },
  {
   "cell_type": "code",
   "execution_count": null,
   "id": "7cc1f281",
   "metadata": {},
   "outputs": [],
   "source": [
    "instructions = \"You are able to manage an account for a client, and answer questions about the account.\"\n",
    "request = \"My name is Himanshu and my account is under the name Himanshu. What's my balance and my holdings?\"\n",
    "\n",
    "client = AsyncOpenAI(\n",
    "    api_key=os.getenv(\"GEMINI_ACCESS_KEY\"),\n",
    "    base_url=\"https://generativelanguage.googleapis.com/v1beta/openai/\"\n",
    ")\n",
    "model = OpenAIChatCompletionsModel(\n",
    "    model=\"gemini-2.0-flash\",\n",
    "    openai_client=client\n",
    ")"
   ]
  },
  {
   "cell_type": "code",
   "execution_count": 21,
   "id": "343050eb",
   "metadata": {},
   "outputs": [
    {
     "data": {
      "text/markdown": [
       "OK. Your cash balance is 9993.988 and you have 3 shares of AMZN."
      ],
      "text/plain": [
       "<IPython.core.display.Markdown object>"
      ]
     },
     "metadata": {},
     "output_type": "display_data"
    }
   ],
   "source": [
    "async with MCPServerStdio(params=params,client_session_timeout_seconds=30) as mcp_server:\n",
    "    agent= Agent(name=\"accont_manager\", instructions=instructions, model=model, mcp_servers=[mcp_server])\n",
    "    # with trace(\"account_manager\"):\n",
    "    #     result= await Runner.run(agent,request)\n",
    "    result= await Runner.run(agent,request)\n",
    "    display(Markdown(result.final_output))"
   ]
  },
  {
   "cell_type": "markdown",
   "id": "bd135ebe",
   "metadata": {},
   "source": [
    "<h3>Now we will build out own MCP Client</h3>\n",
    "<p>Writing client is not common because MCP provides a wide range of client and most of the projects use it directly<p>"
   ]
  },
  {
   "cell_type": "code",
   "execution_count": 23,
   "id": "fb409947",
   "metadata": {},
   "outputs": [
    {
     "name": "stdout",
     "output_type": "stream",
     "text": [
      "[Tool(name='get_balance', title=None, description='Get the cash balance of the given account name.\\n\\nArgs:\\n    name: The name of the account holder\\n', inputSchema={'properties': {'name': {'title': 'Name', 'type': 'string'}}, 'required': ['name'], 'title': 'get_balanceArguments', 'type': 'object'}, outputSchema={'properties': {'result': {'title': 'Result', 'type': 'number'}}, 'required': ['result'], 'title': 'get_balanceOutput', 'type': 'object'}, annotations=None, meta=None), Tool(name='get_holdings', title=None, description='Get the holdings of the given account name.\\n\\nArgs:\\n    name: The name of the account holder\\n', inputSchema={'properties': {'name': {'title': 'Name', 'type': 'string'}}, 'required': ['name'], 'title': 'get_holdingsArguments', 'type': 'object'}, outputSchema={'additionalProperties': {'type': 'integer'}, 'title': 'get_holdingsDictOutput', 'type': 'object'}, annotations=None, meta=None), Tool(name='buy_shares', title=None, description=\"Buy shares of a stock.\\n\\nArgs:\\n    name: The name of the account holder\\n    symbol: The symbol of the stock\\n    quantity: The quantity of shares to buy\\n    rationale: The rationale for the purchase and fit with the account's strategy\\n\", inputSchema={'properties': {'name': {'title': 'Name', 'type': 'string'}, 'symbol': {'title': 'Symbol', 'type': 'string'}, 'quantity': {'title': 'Quantity', 'type': 'integer'}, 'rationale': {'title': 'Rationale', 'type': 'string'}}, 'required': ['name', 'symbol', 'quantity', 'rationale'], 'title': 'buy_sharesArguments', 'type': 'object'}, outputSchema={'properties': {'result': {'title': 'Result', 'type': 'number'}}, 'required': ['result'], 'title': 'buy_sharesOutput', 'type': 'object'}, annotations=None, meta=None), Tool(name='sell_shares', title=None, description=\"Sell shares of a stock.\\n\\nArgs:\\n    name: The name of the account holder\\n    symbol: The symbol of the stock\\n    quantity: The quantity of shares to sell\\n    rationale: The rationale for the sale and fit with the account's strategy\\n\", inputSchema={'properties': {'name': {'title': 'Name', 'type': 'string'}, 'symbol': {'title': 'Symbol', 'type': 'string'}, 'quantity': {'title': 'Quantity', 'type': 'integer'}, 'rationale': {'title': 'Rationale', 'type': 'string'}}, 'required': ['name', 'symbol', 'quantity', 'rationale'], 'title': 'sell_sharesArguments', 'type': 'object'}, outputSchema={'properties': {'result': {'title': 'Result', 'type': 'number'}}, 'required': ['result'], 'title': 'sell_sharesOutput', 'type': 'object'}, annotations=None, meta=None), Tool(name='change_strategy', title=None, description='At your discretion, if you choose to, call this to change your investment strategy for the future.\\n\\nArgs:\\n    name: The name of the account holder\\n    strategy: The new strategy for the account\\n', inputSchema={'properties': {'name': {'title': 'Name', 'type': 'string'}, 'strategy': {'title': 'Strategy', 'type': 'string'}}, 'required': ['name', 'strategy'], 'title': 'change_strategyArguments', 'type': 'object'}, outputSchema={'properties': {'result': {'title': 'Result', 'type': 'string'}}, 'required': ['result'], 'title': 'change_strategyOutput', 'type': 'object'}, annotations=None, meta=None)]\n",
      "[FunctionTool(name='get_balance', description='Get the cash balance of the given account name.\\n\\nArgs:\\n    name: The name of the account holder\\n', params_json_schema={'properties': {'name': {'title': 'Name', 'type': 'string'}}, 'required': ['name'], 'title': 'get_balanceArguments', 'type': 'object', 'additionalProperties': False}, on_invoke_tool=<function get_accounts_tools_openai.<locals>.<lambda> at 0x10ff1a8e0>, strict_json_schema=True, is_enabled=True), FunctionTool(name='get_holdings', description='Get the holdings of the given account name.\\n\\nArgs:\\n    name: The name of the account holder\\n', params_json_schema={'properties': {'name': {'title': 'Name', 'type': 'string'}}, 'required': ['name'], 'title': 'get_holdingsArguments', 'type': 'object', 'additionalProperties': False}, on_invoke_tool=<function get_accounts_tools_openai.<locals>.<lambda> at 0x10ff1aac0>, strict_json_schema=True, is_enabled=True), FunctionTool(name='buy_shares', description=\"Buy shares of a stock.\\n\\nArgs:\\n    name: The name of the account holder\\n    symbol: The symbol of the stock\\n    quantity: The quantity of shares to buy\\n    rationale: The rationale for the purchase and fit with the account's strategy\\n\", params_json_schema={'properties': {'name': {'title': 'Name', 'type': 'string'}, 'symbol': {'title': 'Symbol', 'type': 'string'}, 'quantity': {'title': 'Quantity', 'type': 'integer'}, 'rationale': {'title': 'Rationale', 'type': 'string'}}, 'required': ['name', 'symbol', 'quantity', 'rationale'], 'title': 'buy_sharesArguments', 'type': 'object', 'additionalProperties': False}, on_invoke_tool=<function get_accounts_tools_openai.<locals>.<lambda> at 0x10ff19800>, strict_json_schema=True, is_enabled=True), FunctionTool(name='sell_shares', description=\"Sell shares of a stock.\\n\\nArgs:\\n    name: The name of the account holder\\n    symbol: The symbol of the stock\\n    quantity: The quantity of shares to sell\\n    rationale: The rationale for the sale and fit with the account's strategy\\n\", params_json_schema={'properties': {'name': {'title': 'Name', 'type': 'string'}, 'symbol': {'title': 'Symbol', 'type': 'string'}, 'quantity': {'title': 'Quantity', 'type': 'integer'}, 'rationale': {'title': 'Rationale', 'type': 'string'}}, 'required': ['name', 'symbol', 'quantity', 'rationale'], 'title': 'sell_sharesArguments', 'type': 'object', 'additionalProperties': False}, on_invoke_tool=<function get_accounts_tools_openai.<locals>.<lambda> at 0x10ff19760>, strict_json_schema=True, is_enabled=True), FunctionTool(name='change_strategy', description='At your discretion, if you choose to, call this to change your investment strategy for the future.\\n\\nArgs:\\n    name: The name of the account holder\\n    strategy: The new strategy for the account\\n', params_json_schema={'properties': {'name': {'title': 'Name', 'type': 'string'}, 'strategy': {'title': 'Strategy', 'type': 'string'}}, 'required': ['name', 'strategy'], 'title': 'change_strategyArguments', 'type': 'object', 'additionalProperties': False}, on_invoke_tool=<function get_accounts_tools_openai.<locals>.<lambda> at 0x10ff1ab60>, strict_json_schema=True, is_enabled=True)]\n"
     ]
    }
   ],
   "source": [
    "from accounts_client import get_accounts_tools_openai, read_accounts_resource, list_accounts_tools\n",
    "\n",
    "mcp_tools = await list_accounts_tools()\n",
    "print(mcp_tools)\n",
    "openai_tools= await get_accounts_tools_openai()\n",
    "\n",
    "print(openai_tools)\n"
   ]
  },
  {
   "cell_type": "code",
   "execution_count": 27,
   "id": "1fdb8dff",
   "metadata": {},
   "outputs": [
    {
     "data": {
      "text/markdown": [
       "OK. Your balance is 9993.988."
      ],
      "text/plain": [
       "<IPython.core.display.Markdown object>"
      ]
     },
     "metadata": {},
     "output_type": "display_data"
    }
   ],
   "source": [
    "request = \"My name is Himanshu and my account is under the name Himanshu. What's my balance?\"\n",
    "agent=Agent(name=\"account_manager\",instructions=instructions,model=model, tools=openai_tools)\n",
    "result = await Runner.run(agent,request)\n",
    "display(Markdown(result.final_output))"
   ]
  },
  {
   "cell_type": "code",
   "execution_count": 28,
   "id": "70199aec",
   "metadata": {},
   "outputs": [
    {
     "name": "stdout",
     "output_type": "stream",
     "text": [
      "{\"name\": \"himanshu\", \"balance\": 9993.988, \"strategy\": \"\", \"holdings\": {\"AMZN\": 3}, \"transactions\": [{\"symbol\": \"AMZN\", \"quantity\": 3, \"price\": 2.004, \"timestamp\": \"2025-08-25 21:28:41\", \"rationale\": \"This bookstore looks promising\"}], \"portfolio_value_time_series\": [[\"2025-08-25 21:28:42\", 10020.988], [\"2025-08-25 21:28:50\", 10011.988], [\"2025-08-25 21:37:33\", 10062.988], [\"2025-08-25 21:49:48\", 10191.988], [\"2025-08-25 21:53:10\", 10194.988]], \"total_portfolio_value\": 10194.988, \"total_profit_loss\": 194.98799999999937}\n"
     ]
    }
   ],
   "source": [
    "context= await read_accounts_resource(\"Himanshu\")\n",
    "print(context)"
   ]
  },
  {
   "cell_type": "code",
   "execution_count": 29,
   "id": "aa4aeb34",
   "metadata": {},
   "outputs": [
    {
     "data": {
      "text/plain": [
       "'{\"name\": \"himanshu\", \"balance\": 9993.988, \"strategy\": \"\", \"holdings\": {\"AMZN\": 3}, \"transactions\": [{\"symbol\": \"AMZN\", \"quantity\": 3, \"price\": 2.004, \"timestamp\": \"2025-08-25 21:28:41\", \"rationale\": \"This bookstore looks promising\"}], \"portfolio_value_time_series\": [[\"2025-08-25 21:28:42\", 10020.988], [\"2025-08-25 21:28:50\", 10011.988], [\"2025-08-25 21:37:33\", 10062.988], [\"2025-08-25 21:49:48\", 10191.988], [\"2025-08-25 21:53:10\", 10194.988], [\"2025-08-25 21:53:43\", 10179.988]], \"total_portfolio_value\": 10179.988, \"total_profit_loss\": 179.98799999999937}'"
      ]
     },
     "execution_count": 29,
     "metadata": {},
     "output_type": "execute_result"
    }
   ],
   "source": [
    "from accounts import Account\n",
    "Account.get(\"Himanshu\").report()"
   ]
  }
 ],
 "metadata": {
  "kernelspec": {
   "display_name": "agenticAI",
   "language": "python",
   "name": "python3"
  },
  "language_info": {
   "codemirror_mode": {
    "name": "ipython",
    "version": 3
   },
   "file_extension": ".py",
   "mimetype": "text/x-python",
   "name": "python",
   "nbconvert_exporter": "python",
   "pygments_lexer": "ipython3",
   "version": "3.13.4"
  }
 },
 "nbformat": 4,
 "nbformat_minor": 5
}
