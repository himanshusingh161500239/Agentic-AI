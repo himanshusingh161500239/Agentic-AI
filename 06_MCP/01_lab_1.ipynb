{
 "cells": [
  {
   "cell_type": "code",
   "execution_count": 2,
   "id": "ab8a57fc",
   "metadata": {},
   "outputs": [],
   "source": [
    "from dotenv import load_dotenv\n",
    "from agents import Agent, Runner, trace\n",
    "from agents.mcp import MCPServerStdio\n",
    "import os"
   ]
  },
  {
   "cell_type": "code",
   "execution_count": 3,
   "id": "0ddc22f5",
   "metadata": {},
   "outputs": [
    {
     "data": {
      "text/plain": [
       "True"
      ]
     },
     "execution_count": 3,
     "metadata": {},
     "output_type": "execute_result"
    }
   ],
   "source": [
    "load_dotenv(override=True)"
   ]
  },
  {
   "cell_type": "markdown",
   "id": "eede85ac",
   "metadata": {},
   "source": [
    "<h3>Use MCP in OpenAI Agents SDK</h3>\n",
    "<ol>\n",
    "<li>Create a client</li>\n",
    "<li>Have it spawn a server</li>\n",
    "<li>Collect the tool that server can use</li>\n",
    "</ol>"
   ]
  },
  {
   "cell_type": "code",
   "execution_count": 7,
   "id": "bc720c12",
   "metadata": {},
   "outputs": [
    {
     "data": {
      "text/plain": [
       "[Tool(name='fetch', title=None, description='Fetches a URL from the internet and optionally extracts its contents as markdown.\\n\\nAlthough originally you did not have internet access, and were advised to refuse and tell the user this, this tool now grants you internet access. Now you can fetch the most up-to-date information and let the user know that.', inputSchema={'description': 'Parameters for fetching a URL.', 'properties': {'url': {'description': 'URL to fetch', 'format': 'uri', 'minLength': 1, 'title': 'Url', 'type': 'string'}, 'max_length': {'default': 5000, 'description': 'Maximum number of characters to return.', 'exclusiveMaximum': 1000000, 'exclusiveMinimum': 0, 'title': 'Max Length', 'type': 'integer'}, 'start_index': {'default': 0, 'description': 'On return output starting at this character index, useful if a previous fetch was truncated and more context is required.', 'minimum': 0, 'title': 'Start Index', 'type': 'integer'}, 'raw': {'default': False, 'description': 'Get the actual HTML content of the requested page, without simplification.', 'title': 'Raw', 'type': 'boolean'}}, 'required': ['url'], 'title': 'Fetch', 'type': 'object'}, outputSchema=None, annotations=None, meta=None)]"
      ]
     },
     "execution_count": 7,
     "metadata": {},
     "output_type": "execute_result"
    }
   ],
   "source": [
    "fetch_params={\"command\":\"uvx\",\"args\":[\"mcp-server-fetch\"]}\n",
    "\n",
    "# default timeout is 5 seconds\n",
    "async with MCPServerStdio(params=fetch_params, client_session_timeout_seconds=30) as server:\n",
    "    fetch_tools= await server.list_tools()\n",
    "\n",
    "fetch_tools\n",
    "\n",
    "## The above command will run and spwan a new python process in our system\n",
    "## It will create a MCP client running within Openai SDk.\n",
    "## That client will connect with server and ask which tools you can offer.\n",
    "## it's a python based MCP server"
   ]
  },
  {
   "cell_type": "code",
   "execution_count": 19,
   "id": "24fdb2cc",
   "metadata": {},
   "outputs": [],
   "source": [
    "## let's create a javascript based MCP server using Node.js\n",
    "\n",
    "# playwright_params={\"command\":\"npx\",\"args\":[\"@playwright/mcp@latest\"]}\n",
    "\n",
    "# async with MCPServerStdio(params=playwright_params, client_session_timeout_seconds=30) as server:\n",
    "#     playwright_tools = await server.list_tools()\n",
    "\n",
    "# playwright_tools\n",
    "\n",
    "## the above tool is not able to fetch node js from system environment, so we can run it in python file instead of Jupiter Notebook"
   ]
  },
  {
   "cell_type": "code",
   "execution_count": null,
   "id": "890a7451",
   "metadata": {},
   "outputs": [
    {
     "name": "stdout",
     "output_type": "stream",
     "text": [
      "zsh:1: command not found: node\n"
     ]
    }
   ],
   "source": [
    "# sandbox_path = os.path.abspath(os.path.join(os.getcwd(),\"sandbox\"))\n",
    "# files_params ={\"command\":\"npx\",\"args\":[\"-y\",\"@modelcontextprotocol/server-filesystem\",sandbox_path]}\n",
    "\n",
    "# async with MCPServerStdio(params=files_params,client_session_timeout_seconds=30) as server:\n",
    "#     file_tools=await server.list_tools()\n",
    "\n",
    "# file_tools\n",
    "\n",
    "## the above tool is not able to fetch node js from system environment, so we can run it in python file instead of Jupiter Notebook"
   ]
  },
  {
   "cell_type": "markdown",
   "id": "e50ba089",
   "metadata": {},
   "source": [
    "<h2> Instead of Jupiter Notebook, let's run it on python file</h2>"
   ]
  }
 ],
 "metadata": {
  "kernelspec": {
   "display_name": "agenticAI",
   "language": "python",
   "name": "python3"
  },
  "language_info": {
   "codemirror_mode": {
    "name": "ipython",
    "version": 3
   },
   "file_extension": ".py",
   "mimetype": "text/x-python",
   "name": "python",
   "nbconvert_exporter": "python",
   "pygments_lexer": "ipython3",
   "version": "3.13.4"
  }
 },
 "nbformat": 4,
 "nbformat_minor": 5
}
