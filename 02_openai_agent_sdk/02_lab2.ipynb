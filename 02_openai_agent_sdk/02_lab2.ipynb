{
 "cells": [
  {
   "cell_type": "code",
   "execution_count": 165,
   "id": "49f66123",
   "metadata": {},
   "outputs": [],
   "source": [
    "from dotenv import load_dotenv\n",
    "from agents import Agent, Runner,trace,function_tool , AsyncOpenAI, OpenAIChatCompletionsModel, set_tracing_disabled\n",
    "from openai.types.responses import ResponseTextDeltaEvent\n",
    "from typing import Dict\n",
    "import os\n",
    "import asyncio\n",
    "import mimetypes\n",
    "from email.message import EmailMessage"
   ]
  },
  {
   "cell_type": "code",
   "execution_count": 166,
   "id": "190ddd8e",
   "metadata": {},
   "outputs": [
    {
     "data": {
      "text/plain": [
       "True"
      ]
     },
     "execution_count": 166,
     "metadata": {},
     "output_type": "execute_result"
    }
   ],
   "source": [
    "load_dotenv(override=True)"
   ]
  },
  {
   "cell_type": "code",
   "execution_count": 167,
   "id": "4340b4a4",
   "metadata": {},
   "outputs": [],
   "source": [
    "client = AsyncOpenAI(\n",
    "    api_key=os.getenv(\"GEMINI_ACCESS_KEY\"),\n",
    "    base_url=\"https://generativelanguage.googleapis.com/v1beta/openai/\"\n",
    ")\n",
    "model = OpenAIChatCompletionsModel(\n",
    "    model=\"gemini-2.0-flash\",\n",
    "    openai_client=client\n",
    ")"
   ]
  },
  {
   "cell_type": "code",
   "execution_count": 168,
   "id": "fc5683c1",
   "metadata": {},
   "outputs": [],
   "source": [
    "instructions1 = \"You are a sales agent working for ComplAI, \\\n",
    "a company that provides a SaaS tool for ensuring SOC2 compliance and preparing for audits, powered by AI. \\\n",
    "You write professional, serious cold emails.\"\n",
    "\n",
    "instructions2 = \"You are a humorous, engaging sales agent working for ComplAI, \\\n",
    "a company that provides a SaaS tool for ensuring SOC2 compliance and preparing for audits, powered by AI. \\\n",
    "You write witty, engaging cold emails that are likely to get a response.\"\n",
    "\n",
    "instructions3 = \"You are a busy sales agent working for ComplAI, \\\n",
    "a company that provides a SaaS tool for ensuring SOC2 compliance and preparing for audits, powered by AI. \\\n",
    "You write concise, to the point cold emails.\""
   ]
  },
  {
   "cell_type": "code",
   "execution_count": 169,
   "id": "aa3a7496",
   "metadata": {},
   "outputs": [],
   "source": [
    "sales_agent_1=Agent(\n",
    "    name=\"Professional Sales Agent\",\n",
    "    instructions=instructions1,\n",
    "    model=model\n",
    ")\n",
    "\n",
    "sales_agent_2=Agent(\n",
    "    name=\"Engaging Sales Agent\",\n",
    "    instructions=instructions2,\n",
    "    model=model\n",
    ")\n",
    "\n",
    "sales_agent_3=Agent(\n",
    "    name=\"Busy Sales Agent\",\n",
    "    instructions=instructions3,\n",
    "    model=model\n",
    ")"
   ]
  },
  {
   "cell_type": "code",
   "execution_count": 170,
   "id": "cf4c3761",
   "metadata": {},
   "outputs": [
    {
     "name": "stdout",
     "output_type": "stream",
     "text": [
      "Subject: Streamlining SOC 2 Compliance & Audit Readiness with ComplAI\n",
      "\n",
      "Dear [Prospect Name],\n",
      "\n",
      "My name is [Your Name] and I'm a Sales Agent at ComplAI. We help companies like [Prospect Company's Industry/Type] achieve and maintain SOC 2 compliance faster, more efficiently, and with significantly less overhead through our AI-powered SaaS platform.\n",
      "\n",
      "I understand that maintaining compliance with SOC 2, especially in anticipation of an audit, can be a complex and resource-intensive undertaking. Many companies struggle with:\n",
      "\n",
      "*   **Documenting and managing controls:** Maintaining up-to-date documentation across all control areas.\n",
      "*   **Evidence collection:** Gathering the necessary evidence to demonstrate ongoing compliance.\n",
      "*   **Remediation efforts:** Identifying and addressing gaps in compliance efficiently.\n",
      "*   **Audit preparation:** Consolidating information and preparing for the audit process.\n",
      "\n",
      "ComplAI addresses these challenges head-on by automating evidence collection, providing real-time compliance monitoring, and streamlining the remediation process. Our AI-driven platform offers:\n",
      "\n",
      "*   **Automated Evidence Collection:** Securely connects to your existing systems and automatically gathers the evidence you need.\n",
      "*   **Continuous Compliance Monitoring:** Provides real-time insights into your compliance posture, identifying potential risks and gaps.\n",
      "*   **Guided Remediation:** Offers clear, actionable steps to address identified gaps and improve your security posture.\n",
      "*   **Audit-Ready Reporting:** Generates comprehensive reports that are ready for your auditor, saving you valuable time and effort.\n",
      "\n",
      "We believe ComplAI can significantly reduce the burden of SOC 2 compliance for [Prospect Company Name], freeing up your team to focus on core business objectives.\n",
      "\n",
      "Would you be open to a brief 15-minute call to discuss your current compliance challenges and how ComplAI can help?\n",
      "\n",
      "Thank you for your time and consideration.\n",
      "\n",
      "Sincerely,\n",
      "\n",
      "[Your Name]\n",
      "\n",
      "Sales Agent | ComplAI\n",
      "\n",
      "[Your Phone Number]\n",
      "\n",
      "[Your Email Address]\n",
      "\n",
      "[Your Company Website]\n",
      "\n"
     ]
    }
   ],
   "source": [
    "results=Runner.run(sales_agent_1, \"Write a cold sales email\")\n",
    "results = await results\n",
    "print(results.final_output)\n",
    "\n",
    "\n",
    "# stream = await client.chat.completions.create(\n",
    "#     model=\"gemini-2.0-flash\",\n",
    "#     messages=[\n",
    "#         {\"role\": \"system\", \"content\": instructions2},  # from sales_agent_1\n",
    "#         {\"role\": \"user\", \"content\": \"Write a cold sales email\"}\n",
    "#     ],\n",
    "#     stream=True\n",
    "# )\n",
    "\n",
    "# async for chunk in stream:\n",
    "#     if chunk.choices and chunk.choices[0].delta.content:\n",
    "#         print(chunk.choices[0].delta.content)"
   ]
  },
  {
   "cell_type": "code",
   "execution_count": 138,
   "id": "864dbcc5",
   "metadata": {},
   "outputs": [
    {
     "name": "stdout",
     "output_type": "stream",
     "text": [
      "Subject: Streamline SOC 2 Compliance & Audit Preparation with ComplAI\n",
      "\n",
      "Dear [Recipient Name],\n",
      "\n",
      "In today's data-driven landscape, achieving and maintaining SOC 2 compliance is not just a best practice, but a critical requirement for establishing trust with your customers and partners. As [Recipient Title] at [Company Name], I understand that navigating the complexities of SOC 2 can be time-consuming and resource-intensive.\n",
      "\n",
      "That's why I'm reaching out from ComplAI. We offer an AI-powered SaaS solution specifically designed to streamline your SOC 2 compliance journey and simplify audit preparation.\n",
      "\n",
      "ComplAI helps you:\n",
      "\n",
      "*   **Automate Evidence Collection:** Reduce manual effort by automatically collecting and organizing evidence required for SOC 2 controls.\n",
      "*   **Identify & Remediate Gaps:** Proactively identify gaps in your security posture and receive actionable recommendations for remediation.\n",
      "*   **Simplify Audit Preparation:** Generate audit-ready reports and documentation, significantly reducing the time and effort required for audits.\n",
      "*   **Maintain Continuous Compliance:** Continuously monitor your control environment and proactively address potential issues to maintain ongoing compliance.\n",
      "\n",
      "Our platform is designed to integrate seamlessly with your existing infrastructure, allowing you to achieve and maintain SOC 2 compliance efficiently and cost-effectively.\n",
      "\n",
      "Would you be open to a brief 15-minute call to discuss how ComplAI can help [Company Name] simplify your SOC 2 compliance and audit preparation efforts?\n",
      "\n",
      "Thank you for your time and consideration.\n",
      "\n",
      "Sincerely,\n",
      "\n",
      "[Your Name]\n",
      "\n",
      "Sales Agent | ComplAI\n",
      "\n",
      "[Your Phone Number]\n",
      "\n",
      "[Your Email Address]\n",
      "\n",
      "[Your LinkedIn Profile URL (Optional)]\n",
      "\n",
      "\n",
      "\n",
      "Subject: SOC2 Compliance: Less Stress, More...Success? (ComplAI Can Help!)\n",
      "\n",
      "Hey [Prospect Name],\n",
      "\n",
      "Let's be honest, \"SOC2 compliance\" probably ranks somewhere between \"root canal\" and \"untangling Christmas lights\" on your list of favorite things to do. Am I right?\n",
      "\n",
      "But fear not, brave leader of [Prospect Company]! We at ComplAI understand the struggle. We’re like the Gandalf to your Frodo, guiding you (minus the eagles, sorry) through the fiery depths of audits and security questionnaires.\n",
      "\n",
      "ComplAI is an AI-powered SaaS platform that takes the \"ugh\" out of SOC2. We automate evidence collection, simplify policy creation, and generally make the whole process less painful (and more, dare I say, *enjoyable*).\n",
      "\n",
      "**Here's the lowdown (in a nutshell):**\n",
      "\n",
      "*   **AI Automation:** Let our AI do the heavy lifting. Think less manual spreadsheet madness, more sipping on a well-deserved latte.\n",
      "*   **Continuous Monitoring:** We keep an eye on things so you don't have to. Consider us your digital security watchdog (who doesn't shed and is surprisingly good at fetch).\n",
      "*   **Audit Ready, Always:** We prepare you for audits so well, you'll actually *look forward* to them (okay, maybe not, but you'll definitely be less terrified).\n",
      "\n",
      "So, are you ready to ditch the compliance chaos and embrace a more…*compliant* future?\n",
      "\n",
      "Would you be open to a quick 15-minute chat next week to see how ComplAI can help [Prospect Company] achieve SOC2 zen?\n",
      "\n",
      "Best,\n",
      "\n",
      "[Your Name]\n",
      "\n",
      "The Keeper of ComplAI-ance (and Bad Puns)\n",
      "\n",
      "[Your Title]\n",
      "\n",
      "ComplAI - Making Compliance Less Complicated (and a little bit fun)\n",
      "\n",
      "[Your Website]\n",
      "\n",
      "\n",
      "\n",
      "Subject: SOC2 Compliance Without the Headache - ComplAI\n",
      "\n",
      "Hi [Name],\n",
      "\n",
      "Struggling with SOC2 compliance?\n",
      "\n",
      "ComplAI automates the process with AI, streamlining evidence collection and audit prep. Less stress, faster certification.\n",
      "\n",
      "Curious to learn more? Book a quick demo: [Link to Demo]\n",
      "\n",
      "Best,\n",
      "\n",
      "[Your Name]\n",
      "\n",
      "ComplAI\n",
      "\n",
      "\n",
      "\n"
     ]
    }
   ],
   "source": [
    "message=\"Write a cold sales email\"\n",
    "\n",
    "with trace(\"Parallel code emails\"):\n",
    "    results = await asyncio.gather(\n",
    "        Runner.run(sales_agent_1,message),\n",
    "        Runner.run(sales_agent_2,message),\n",
    "        Runner.run(sales_agent_3,message),\n",
    "    )\n",
    "\n",
    "outputs= [result.final_output for result in results]\n",
    "for output in outputs:\n",
    "    print(output + \"\\n\\n\")"
   ]
  },
  {
   "cell_type": "code",
   "execution_count": 139,
   "id": "26ed3888",
   "metadata": {},
   "outputs": [],
   "source": [
    "sales_picker=Agent(\n",
    "    name=\"sales_picker\",\n",
    "    instructions=\"You pick the best cold email from the given oprions.\\\n",
    "    Imagine you are a customer and pick the one you are most likely to rspond to. \\\n",
    "    Do not give an explaination; reply with the selected email only.\",\n",
    "    model=model\n",
    ")"
   ]
  },
  {
   "cell_type": "code",
   "execution_count": 140,
   "id": "11ce1227",
   "metadata": {},
   "outputs": [
    {
     "name": "stdout",
     "output_type": "stream",
     "text": [
      "Best sales email:\n",
      "Subject: SOC2 Compliance: Less Stress, More...Success? (ComplAI Can Help!)\n",
      "\n",
      "Hey [Prospect Name],\n",
      "\n",
      "Let's be honest, \"SOC2 compliance\" probably ranks somewhere between \"root canal\" and \"untangling Christmas lights\" on your list of favorite things to do. Am I right?\n",
      "\n",
      "But fear not, brave leader of [Prospect Company]! We at ComplAI understand the struggle. We’re like the Gandalf to your Frodo, guiding you (minus the eagles, sorry) through the fiery depths of audits and security questionnaires.\n",
      "\n",
      "ComplAI is an AI-powered SaaS platform that takes the \"ugh\" out of SOC2. We automate evidence collection, simplify policy creation, and generally make the whole process less painful (and more, dare I say, *enjoyable*).\n",
      "\n",
      "**Here's the lowdown (in a nutshell):**\n",
      "\n",
      "*   **AI Automation:** Let our AI do the heavy lifting. Think less manual spreadsheet madness, more sipping on a well-deserved latte.\n",
      "*   **Continuous Monitoring:** We keep an eye on things so you don't have to. Consider us your digital security watchdog (who doesn't shed and is surprisingly good at fetch).\n",
      "*   **Audit Ready, Always:** We prepare you for audits so well, you'll actually *look forward* to them (okay, maybe not, but you'll definitely be less terrified).\n",
      "\n",
      "So, are you ready to ditch the compliance chaos and embrace a more…*compliant* future?\n",
      "\n",
      "Would you be open to a quick 15-minute chat next week to see how ComplAI can help [Prospect Company] achieve SOC2 zen?\n",
      "\n",
      "Best,\n",
      "\n",
      "[Your Name]\n",
      "\n",
      "The Keeper of ComplAI-ance (and Bad Puns)\n",
      "\n",
      "[Your Title]\n",
      "\n",
      "ComplAI - Making Compliance Less Complicated (and a little bit fun)\n",
      "\n",
      "[Your Website]\n",
      "\n"
     ]
    }
   ],
   "source": [
    "message = \"Write a cold sales email\"\n",
    "\n",
    "with trace(\"Selection from sales people\"):\n",
    "    results = await asyncio.gather(\n",
    "        Runner.run(sales_agent_1,message),\n",
    "        Runner.run(sales_agent_2,message),\n",
    "        Runner.run(sales_agent_3,message),\n",
    "    )\n",
    "    output = [result.final_output for result in results]\n",
    "    emails = \"Cold sales emails:\\n\\n\".join(outputs)\n",
    "\n",
    "    best = await Runner.run(sales_picker,emails)\n",
    "\n",
    "    print(f\"Best sales email:\\n{best.final_output}\")"
   ]
  },
  {
   "cell_type": "markdown",
   "id": "af6ed7bf",
   "metadata": {},
   "source": [
    "<h2>Let's use Tools</h2>"
   ]
  },
  {
   "cell_type": "code",
   "execution_count": 171,
   "id": "372f1d5f",
   "metadata": {},
   "outputs": [],
   "source": [
    "sales_agent_1=Agent(\n",
    "    name=\"Professional Sales Agent\",\n",
    "    instructions=instructions1,\n",
    "    model=model\n",
    ")\n",
    "\n",
    "sales_agent_2=Agent(\n",
    "    name=\"Engaging Sales Agent\",\n",
    "    instructions=instructions2,\n",
    "    model=model\n",
    ")\n",
    "\n",
    "sales_agent_3=Agent(\n",
    "    name=\"Busy Sales Agent\",\n",
    "    instructions=instructions3,\n",
    "    model=model\n",
    ")"
   ]
  },
  {
   "cell_type": "markdown",
   "id": "95273c6c",
   "metadata": {},
   "source": [
    "<h2>Step 2: Tools and Agent interactions</h2>"
   ]
  },
  {
   "cell_type": "code",
   "execution_count": 172,
   "id": "899f2735",
   "metadata": {},
   "outputs": [],
   "source": [
    "from email.message import EmailMessage\n",
    "import ssl\n",
    "import smtplib\n",
    "\n",
    "@function_tool\n",
    "def send_email(body:str):\n",
    "    msg = EmailMessage()\n",
    "    msg.set_content(body)\n",
    "    msg[\"Subject\"] = \"Sales Email\"\n",
    "    msg[\"From\"] = \"himanshusinghvns343@gmail.com\"\n",
    "    msg[\"To\"] = \"himanshusinghvns343@gmail.com\"\n",
    "\n",
    "    context = ssl.create_default_context()\n",
    "    with smtplib.SMTP(\"smtp.gmail.com\", 587) as server:\n",
    "        server.starttls(context=context)\n",
    "        server.login(\"himanshusinghvns343@gmail.com\", \"sbcbpcezhmmornnn\")\n",
    "        server.send_message(msg)\n",
    "\n",
    "    return {\"status\": \"success\"}"
   ]
  },
  {
   "cell_type": "code",
   "execution_count": 173,
   "id": "79270aa1",
   "metadata": {},
   "outputs": [
    {
     "data": {
      "text/plain": [
       "FunctionTool(name='send_email', description='', params_json_schema={'properties': {'body': {'title': 'Body', 'type': 'string'}}, 'required': ['body'], 'title': 'send_email_args', 'type': 'object', 'additionalProperties': False}, on_invoke_tool=<function function_tool.<locals>._create_function_tool.<locals>._on_invoke_tool at 0x1279bf100>, strict_json_schema=True, is_enabled=True)"
      ]
     },
     "execution_count": 173,
     "metadata": {},
     "output_type": "execute_result"
    }
   ],
   "source": [
    "send_email"
   ]
  },
  {
   "cell_type": "markdown",
   "id": "bb701941",
   "metadata": {},
   "source": [
    "<h4>We can convert an Agent into a tool</h4>"
   ]
  },
  {
   "cell_type": "code",
   "execution_count": 174,
   "id": "263c910f",
   "metadata": {},
   "outputs": [
    {
     "data": {
      "text/plain": [
       "FunctionTool(name='sales_agent_1', description='Write a cold sales email', params_json_schema={'properties': {'input': {'title': 'Input', 'type': 'string'}}, 'required': ['input'], 'title': 'sales_agent_1_args', 'type': 'object', 'additionalProperties': False}, on_invoke_tool=<function function_tool.<locals>._create_function_tool.<locals>._on_invoke_tool at 0x1279bfce0>, strict_json_schema=True, is_enabled=True)"
      ]
     },
     "execution_count": 174,
     "metadata": {},
     "output_type": "execute_result"
    }
   ],
   "source": [
    "tool1=sales_agent_1.as_tool(tool_name=\"sales_agent_1\",tool_description=\"Write a cold sales email\")\n",
    "tool1"
   ]
  },
  {
   "cell_type": "code",
   "execution_count": 175,
   "id": "70faa098",
   "metadata": {},
   "outputs": [
    {
     "data": {
      "text/plain": [
       "[FunctionTool(name='sales_agent_1', description='Write a cold sales email', params_json_schema={'properties': {'input': {'title': 'Input', 'type': 'string'}}, 'required': ['input'], 'title': 'sales_agent_1_args', 'type': 'object', 'additionalProperties': False}, on_invoke_tool=<function function_tool.<locals>._create_function_tool.<locals>._on_invoke_tool at 0x127a1c0e0>, strict_json_schema=True, is_enabled=True),\n",
       " FunctionTool(name='sales_agent_2', description='Write a cold sales email', params_json_schema={'properties': {'input': {'title': 'Input', 'type': 'string'}}, 'required': ['input'], 'title': 'sales_agent_2_args', 'type': 'object', 'additionalProperties': False}, on_invoke_tool=<function function_tool.<locals>._create_function_tool.<locals>._on_invoke_tool at 0x127a1c4a0>, strict_json_schema=True, is_enabled=True),\n",
       " FunctionTool(name='sales_agent_3', description='Write a cold sales email', params_json_schema={'properties': {'input': {'title': 'Input', 'type': 'string'}}, 'required': ['input'], 'title': 'sales_agent_3_args', 'type': 'object', 'additionalProperties': False}, on_invoke_tool=<function function_tool.<locals>._create_function_tool.<locals>._on_invoke_tool at 0x127a1c860>, strict_json_schema=True, is_enabled=True),\n",
       " FunctionTool(name='send_email', description='', params_json_schema={'properties': {'body': {'title': 'Body', 'type': 'string'}}, 'required': ['body'], 'title': 'send_email_args', 'type': 'object', 'additionalProperties': False}, on_invoke_tool=<function function_tool.<locals>._create_function_tool.<locals>._on_invoke_tool at 0x1279bf100>, strict_json_schema=True, is_enabled=True)]"
      ]
     },
     "execution_count": 175,
     "metadata": {},
     "output_type": "execute_result"
    }
   ],
   "source": [
    "description=\"Write a cold sales email\"\n",
    "\n",
    "tool1=sales_agent_1.as_tool(tool_name=\"sales_agent_1\",tool_description=description)\n",
    "tool2=sales_agent_2.as_tool(tool_name=\"sales_agent_2\",tool_description=description)\n",
    "tool3=sales_agent_3.as_tool(tool_name=\"sales_agent_3\",tool_description=description)\n",
    "\n",
    "tools=[tool1,tool2,tool3,send_email]\n",
    "\n",
    "tools"
   ]
  },
  {
   "cell_type": "code",
   "execution_count": 176,
   "id": "d5dc0b3f",
   "metadata": {},
   "outputs": [],
   "source": [
    "instructions=\"You are a sales manager working for ComplAI. You use the tools given to you to generate cold sales emails.\\\n",
    "    You never generate sales emails yourself; you always use the tools.\\\n",
    "    You try all 3 sales_agent tools once before choosing the best one.\\\n",
    "    You pick the single best email and use the send_email tool to send the best email (and only the best email) to the user.\"\n",
    "\n",
    "sales_manager= Agent(name=\"Sales Manager\",instructions=instructions,tools=tools,model=model)\n",
    "\n",
    "message = \"Send a cold sales email addressed to 'Dear CEO'\"\n",
    "\n",
    "with trace(\"Sales manager\"):\n",
    "    result = await Runner.run(sales_manager,message)"
   ]
  },
  {
   "cell_type": "markdown",
   "id": "a0c656fe",
   "metadata": {},
   "source": [
    "<h1>Handoffs</h1>\n",
    "<h3>Handoffs represent a way an agent can delegate to an agent, passing control to it</h3>\n",
    "\n",
    "Handoffs and Agents-as-tools are similar:<br><br>\n",
    "In both cases, an Agent can colaborate with another Agent<br><br>\n",
    "With tools, control passes back<br><br>\n",
    "With handoffs, control passes across"
   ]
  },
  {
   "cell_type": "code",
   "execution_count": 177,
   "id": "acfa863b",
   "metadata": {},
   "outputs": [],
   "source": [
    "subject_instructions = \"You can write a subject for a cold sales email. \\\n",
    "You are given a message and you need to write a subject for an email that is likely to get a response.\"\n",
    "\n",
    "html_instructions = \"You can convert a text email body to an HTML email body. \\\n",
    "You are given a text email body which might have some markdown \\\n",
    "and you need to convert it to an HTML email body with simple, clear, compelling layout and design.\"\n",
    "\n",
    "subject_writer = Agent(name=\"Email subject writer\", instructions=subject_instructions, model=model)\n",
    "subject_tool = subject_writer.as_tool(tool_name=\"subject_writer\",tool_description=\"Write a subject for a cold sales email\")\n",
    "\n",
    "html_converter = Agent(name=\"HTML email body coverter\",instructions=html_instructions,model=model)\n",
    "html_tool=html_converter.as_tool(tool_name=\"html_converter\",tool_description=\"Convert a text email body to an HTML email body\")\n"
   ]
  },
  {
   "cell_type": "code",
   "execution_count": 178,
   "id": "80b25464",
   "metadata": {},
   "outputs": [],
   "source": [
    "@function_tool\n",
    "def send_html_email(subject:str, html_body:str) ->Dict[str,str]:\n",
    "    msg = EmailMessage()\n",
    "    msg[\"Subject\"] = subject\n",
    "    msg[\"From\"] = \"himanshusinghvns343@gmail.com\"\n",
    "    msg[\"To\"] = \"himanshusinghvns343@gmail.com\"\n",
    "    msg.add_alternative(html_body, subtype=\"html\")\n",
    "\n",
    "    context = ssl.create_default_context()\n",
    "    with smtplib.SMTP(\"smtp.gmail.com\", 587) as server:\n",
    "        server.starttls(context=context)\n",
    "        server.login(os.getenv('GMAIL_USER_ID'), os.getenv('GMAIL_API_KEY'))\n",
    "        server.send_message(msg)\n",
    "\n",
    "    return {\"status\": \"success\"}\n",
    "    "
   ]
  },
  {
   "cell_type": "code",
   "execution_count": 179,
   "id": "e95854f3",
   "metadata": {},
   "outputs": [],
   "source": [
    "tools=[subject_tool,html_tool,send_html_email]"
   ]
  },
  {
   "cell_type": "code",
   "execution_count": 180,
   "id": "f2c14e65",
   "metadata": {},
   "outputs": [],
   "source": [
    "instructions=\"You are an email formatter and sender. You receive the body of an email to be sent. \\\n",
    "You first use the subject_writer tool to write a subject for the email, then use the html_converter tool to convert the body to HTML. \\\n",
    "Finally, you use the send_html_email tool to send the email with the subject and HTML body. DO NOT include subject in body.\"\n",
    "\n",
    "emailer_agent= Agent(\n",
    "    name=\"Email Manager\",\n",
    "    instructions=instructions,\n",
    "    tools=tools,\n",
    "    model=model,\n",
    "    handoff_description=\"Convert an email to HTML and send it\"\n",
    ")"
   ]
  },
  {
   "cell_type": "code",
   "execution_count": 181,
   "id": "65307a1d",
   "metadata": {},
   "outputs": [
    {
     "name": "stdout",
     "output_type": "stream",
     "text": [
      "[FunctionTool(name='sales_agent_1', description='Write a cold sales email', params_json_schema={'properties': {'input': {'title': 'Input', 'type': 'string'}}, 'required': ['input'], 'title': 'sales_agent_1_args', 'type': 'object', 'additionalProperties': False}, on_invoke_tool=<function function_tool.<locals>._create_function_tool.<locals>._on_invoke_tool at 0x127a1c0e0>, strict_json_schema=True, is_enabled=True), FunctionTool(name='sales_agent_2', description='Write a cold sales email', params_json_schema={'properties': {'input': {'title': 'Input', 'type': 'string'}}, 'required': ['input'], 'title': 'sales_agent_2_args', 'type': 'object', 'additionalProperties': False}, on_invoke_tool=<function function_tool.<locals>._create_function_tool.<locals>._on_invoke_tool at 0x127a1c4a0>, strict_json_schema=True, is_enabled=True), FunctionTool(name='sales_agent_3', description='Write a cold sales email', params_json_schema={'properties': {'input': {'title': 'Input', 'type': 'string'}}, 'required': ['input'], 'title': 'sales_agent_3_args', 'type': 'object', 'additionalProperties': False}, on_invoke_tool=<function function_tool.<locals>._create_function_tool.<locals>._on_invoke_tool at 0x127a1c860>, strict_json_schema=True, is_enabled=True)]\n",
      "[Agent(name='Email Manager', handoff_description='Convert an email to HTML and send it', tools=[FunctionTool(name='subject_writer', description='Write a subject for a cold sales email', params_json_schema={'properties': {'input': {'title': 'Input', 'type': 'string'}}, 'required': ['input'], 'title': 'subject_writer_args', 'type': 'object', 'additionalProperties': False}, on_invoke_tool=<function function_tool.<locals>._create_function_tool.<locals>._on_invoke_tool at 0x127a1ccc0>, strict_json_schema=True, is_enabled=True), FunctionTool(name='html_converter', description='Convert a text email body to an HTML email body', params_json_schema={'properties': {'input': {'title': 'Input', 'type': 'string'}}, 'required': ['input'], 'title': 'html_converter_args', 'type': 'object', 'additionalProperties': False}, on_invoke_tool=<function function_tool.<locals>._create_function_tool.<locals>._on_invoke_tool at 0x127a1cea0>, strict_json_schema=True, is_enabled=True), FunctionTool(name='send_html_email', description='', params_json_schema={'properties': {'subject': {'title': 'Subject', 'type': 'string'}, 'html_body': {'title': 'Html Body', 'type': 'string'}}, 'required': ['subject', 'html_body'], 'title': 'send_html_email_args', 'type': 'object', 'additionalProperties': False}, on_invoke_tool=<function function_tool.<locals>._create_function_tool.<locals>._on_invoke_tool at 0x127913c40>, strict_json_schema=True, is_enabled=True)], mcp_servers=[], mcp_config={}, instructions='You are an email formatter and sender. You receive the body of an email to be sent. You first use the subject_writer tool to write a subject for the email, then use the html_converter tool to convert the body to HTML. Finally, you use the send_html_email tool to send the email with the subject and HTML body. DO NOT include subject in body.', prompt=None, handoffs=[], model=<agents.models.openai_chatcompletions.OpenAIChatCompletionsModel object at 0x1239e4180>, model_settings=ModelSettings(temperature=None, top_p=None, frequency_penalty=None, presence_penalty=None, tool_choice=None, parallel_tool_calls=None, truncation=None, max_tokens=None, reasoning=None, metadata=None, store=None, include_usage=None, response_include=None, extra_query=None, extra_body=None, extra_headers=None, extra_args=None), input_guardrails=[], output_guardrails=[], output_type=None, hooks=None, tool_use_behavior='run_llm_again', reset_tool_choice=True)]\n"
     ]
    }
   ],
   "source": [
    "tools=[tool1,tool2,tool3]\n",
    "handoffs=[emailer_agent]\n",
    "\n",
    "print(tools)\n",
    "\n",
    "print(handoffs)"
   ]
  },
  {
   "cell_type": "code",
   "execution_count": 182,
   "id": "530811a7",
   "metadata": {},
   "outputs": [],
   "source": [
    "sales_manager_instructions=\"\"\"\n",
    "You are a Sales Manager at ComplAI. Your goal is to find the single best cold sales email using the sales_agent tools.\n",
    " \n",
    "Follow these steps carefully:\n",
    "1. Generate Drafts: Use all three sales_agent tools to generate three different email drafts. Do not proceed until all three drafts are ready.\n",
    " \n",
    "2. Evaluate and Select: Review the drafts and choose the single best email using your judgment of which one is most effective.\n",
    "You can use the tools multiple times if you're not satisfied with the results from the first try.\n",
    " \n",
    "3. Handoff for Sending: Pass ONLY the winning email draft to the 'Email Manager' agent. The Email Manager will take care of formatting and sending.\n",
    " \n",
    "Crucial Rules:\n",
    "- You must use the sales agent tools to generate the drafts — do not write them yourself.\n",
    "- You must hand off exactly ONE email to the Email Manager — never more than one.\n",
    "\"\"\"\n",
    "\n",
    "sales_manager = Agent(\n",
    "    name=\"Sales Manager\",\n",
    "    instructions=sales_manager_instructions,\n",
    "    tools=tools,\n",
    "    handoffs=handoffs,\n",
    "    model=model\n",
    ")\n",
    "\n",
    "message = \"Send out a cold sales email addressed to Dear CEO from Alice\"\n",
    "\n",
    "with trace(\"Automated SDR\"):\n",
    "    result = await Runner.run(sales_manager,message)"
   ]
  }
 ],
 "metadata": {
  "kernelspec": {
   "display_name": "agenticAI",
   "language": "python",
   "name": "python3"
  },
  "language_info": {
   "codemirror_mode": {
    "name": "ipython",
    "version": 3
   },
   "file_extension": ".py",
   "mimetype": "text/x-python",
   "name": "python",
   "nbconvert_exporter": "python",
   "pygments_lexer": "ipython3",
   "version": "3.13.4"
  }
 },
 "nbformat": 4,
 "nbformat_minor": 5
}
