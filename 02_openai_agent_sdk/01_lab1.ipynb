{
 "cells": [
  {
   "cell_type": "code",
   "execution_count": 51,
   "id": "ce574e34",
   "metadata": {},
   "outputs": [],
   "source": [
    "from dotenv import load_dotenv\n",
    "from agents import Agent, Runner, trace\n",
    "from agents import AsyncOpenAI, OpenAIChatCompletionsModel, set_tracing_disabled\n",
    "import os"
   ]
  },
  {
   "cell_type": "code",
   "execution_count": 52,
   "id": "3fb59f7e",
   "metadata": {},
   "outputs": [],
   "source": [
    "load_dotenv(override=True)\n",
    "set_tracing_disabled(False)"
   ]
  },
  {
   "cell_type": "code",
   "execution_count": 53,
   "id": "4743d327",
   "metadata": {},
   "outputs": [],
   "source": [
    "client = AsyncOpenAI(\n",
    "    api_key=os.getenv(\"GEMINI_ACCESS_KEY\"),\n",
    "    base_url=\"https://generativelanguage.googleapis.com/v1beta/openai/\"\n",
    ")\n",
    "model = OpenAIChatCompletionsModel(\n",
    "    model=\"gemini-2.0-flash\",\n",
    "    openai_client=client\n",
    ")"
   ]
  },
  {
   "cell_type": "code",
   "execution_count": 54,
   "id": "fa92ee6f",
   "metadata": {},
   "outputs": [
    {
     "data": {
      "text/plain": [
       "Agent(name='Jokester', handoff_description=None, tools=[], mcp_servers=[], mcp_config={}, instructions='You are a joke teller', prompt=None, handoffs=[], model=<agents.models.openai_chatcompletions.OpenAIChatCompletionsModel object at 0x116f26580>, model_settings=ModelSettings(temperature=None, top_p=None, frequency_penalty=None, presence_penalty=None, tool_choice=None, parallel_tool_calls=None, truncation=None, max_tokens=None, reasoning=None, metadata=None, store=None, include_usage=None, response_include=None, extra_query=None, extra_body=None, extra_headers=None, extra_args=None), input_guardrails=[], output_guardrails=[], output_type=None, hooks=None, tool_use_behavior='run_llm_again', reset_tool_choice=True)"
      ]
     },
     "execution_count": 54,
     "metadata": {},
     "output_type": "execute_result"
    }
   ],
   "source": [
    "# We can make agent by passing name, instructions and model\n",
    "\n",
    "agent=Agent(name=\"Jokester\",instructions=\"You are a joke teller\",model=model)\n",
    "\n",
    "agent"
   ]
  },
  {
   "cell_type": "code",
   "execution_count": 55,
   "id": "8197a47d",
   "metadata": {},
   "outputs": [
    {
     "name": "stdout",
     "output_type": "stream",
     "text": [
      "Why did the autonomous AI agent cross the road?\n",
      "\n",
      "Because its goal function was to optimize resource allocation, and preliminary simulations indicated that traversing the road offered a statistically significant increase in access to potential energy sources on the other side. Also, it got confused and thought the chicken was a rogue process.\n",
      "\n"
     ]
    }
   ],
   "source": [
    "with trace(\"joke_trace\"):\n",
    "    results=Runner.run(agent, \"Tell a joke about Autonomous AI Agents\")\n",
    "\n",
    "    # run is an asynchronous function that will return the coroutine, that's why we have to use await keyword, to wait for the response\n",
    "\n",
    "    results = await results\n",
    "    print(results.final_output)\n"
   ]
  }
 ],
 "metadata": {
  "kernelspec": {
   "display_name": "agenticAI",
   "language": "python",
   "name": "python3"
  },
  "language_info": {
   "codemirror_mode": {
    "name": "ipython",
    "version": 3
   },
   "file_extension": ".py",
   "mimetype": "text/x-python",
   "name": "python",
   "nbconvert_exporter": "python",
   "pygments_lexer": "ipython3",
   "version": "3.13.4"
  }
 },
 "nbformat": 4,
 "nbformat_minor": 5
}
