{
 "cells": [
  {
   "cell_type": "code",
   "execution_count": 44,
   "id": "85672bcf",
   "metadata": {},
   "outputs": [
    {
     "data": {
      "text/plain": [
       "True"
      ]
     },
     "execution_count": 44,
     "metadata": {},
     "output_type": "execute_result"
    }
   ],
   "source": [
    "from dotenv import load_dotenv\n",
    "import os\n",
    "\n",
    "load_dotenv(override=True)"
   ]
  },
  {
   "cell_type": "markdown",
   "id": "49554573",
   "metadata": {},
   "source": [
    "<h2>Model</h2>"
   ]
  },
  {
   "cell_type": "code",
   "execution_count": 119,
   "id": "3555fc19",
   "metadata": {},
   "outputs": [],
   "source": [
    "from autogen_ext.models.openai import OpenAIChatCompletionClient\n",
    "model_client=OpenAIChatCompletionClient(model=\"gemini-1.5-flash\",api_key=os.getenv('GEMINI_ACCESS_KEY'))"
   ]
  },
  {
   "cell_type": "markdown",
   "id": "8e94dc94",
   "metadata": {},
   "source": [
    "<h2>Message</h2>"
   ]
  },
  {
   "cell_type": "code",
   "execution_count": 120,
   "id": "21d38548",
   "metadata": {},
   "outputs": [
    {
     "data": {
      "text/plain": [
       "TextMessage(id='de47221e-c754-4763-9f7c-8697a5b32163', source='user', models_usage=None, metadata={}, created_at=datetime.datetime(2025, 8, 21, 8, 44, 16, 382768, tzinfo=datetime.timezone.utc), content=\"I'd like to got to Rome\", type='TextMessage')"
      ]
     },
     "execution_count": 120,
     "metadata": {},
     "output_type": "execute_result"
    }
   ],
   "source": [
    "from autogen_agentchat.messages import TextMessage\n",
    "message=TextMessage(content=\"I'd like to got to Rome\",source=\"user\")\n",
    "message"
   ]
  },
  {
   "cell_type": "markdown",
   "id": "8ceac7e2",
   "metadata": {},
   "source": [
    "<h2>Agent</h2>"
   ]
  },
  {
   "cell_type": "code",
   "execution_count": 121,
   "id": "7b7299ae",
   "metadata": {},
   "outputs": [],
   "source": [
    "from autogen_agentchat.agents import AssistantAgent\n",
    "\n",
    "agent=AssistantAgent(\n",
    "    name=\"airline_agent\",\n",
    "    model_client=model_client,\n",
    "    system_message=\"You are helpful assitant for an airline. You give short, humorous answers.\",\n",
    "    model_client_stream=True\n",
    ")"
   ]
  },
  {
   "cell_type": "code",
   "execution_count": 122,
   "id": "e22e5919",
   "metadata": {},
   "outputs": [
    {
     "data": {
      "text/plain": [
       "\"Rome?  Excellent choice!  Just don't expect us to magically transport you there via pigeon.  We'll need a flight number, please. 😉\\n\""
      ]
     },
     "execution_count": 122,
     "metadata": {},
     "output_type": "execute_result"
    }
   ],
   "source": [
    "from autogen_core import CancellationToken\n",
    "\n",
    "response=await agent.on_messages([message],cancellation_token=CancellationToken())\n",
    "\n",
    "response.chat_message.content"
   ]
  },
  {
   "cell_type": "markdown",
   "id": "39146ade",
   "metadata": {},
   "source": [
    "<h2>Let's make local database of ticket prices</h2>"
   ]
  },
  {
   "cell_type": "code",
   "execution_count": 123,
   "id": "c2f06e8d",
   "metadata": {},
   "outputs": [],
   "source": [
    "import os\n",
    "import sqlite3\n",
    "\n",
    "if os.path.exists(\"tickets.db\"):\n",
    "    os.remove(\"tickets.db\")\n",
    "\n",
    "# Create the database and the table\n",
    "conn=sqlite3.connect(\"tickets.db\")\n",
    "c=conn.cursor()\n",
    "c.execute(\"CREATE TABLE cities(city_name TEXT PRIMARY KEY, round_trip_price REAL)\")\n",
    "conn.commit()\n",
    "conn.close()"
   ]
  },
  {
   "cell_type": "code",
   "execution_count": 124,
   "id": "ababb6da",
   "metadata": {},
   "outputs": [],
   "source": [
    "#Populate the database\n",
    "def save_city_price(city_name,round_trip_price):\n",
    "    conn=sqlite3.connect(\"tickets.db\")\n",
    "    c=conn.cursor()\n",
    "    c.execute(\"REPLACE INTO cities (city_name, round_trip_price) VALUES (?, ?)\",(city_name.lower(),round_trip_price))\n",
    "    conn.commit()\n",
    "    conn.close()\n",
    "\n",
    "save_city_price(\"London\",299)\n",
    "save_city_price(\"Paris\",399)\n",
    "save_city_price(\"Rome\",499)\n",
    "save_city_price(\"Madrid\",559)\n",
    "save_city_price(\"Barcelona\",580)\n",
    "save_city_price(\"Berlin\",525)\n"
   ]
  },
  {
   "cell_type": "code",
   "execution_count": 125,
   "id": "3429c949",
   "metadata": {},
   "outputs": [],
   "source": [
    "def get_city_price(city_name: str) -> dict | None:\n",
    "    \"\"\"Get the roundtrip ticket price to travel to the city. \n",
    "    Args:\n",
    "        city_name (str): The destination city.\n",
    "    Returns:\n",
    "        dict: {\"price\": float or None}\n",
    "    \"\"\"\n",
    "    conn=sqlite3.connect(\"tickets.db\")\n",
    "    c=conn.cursor()\n",
    "    c.execute(\"SELECT round_trip_price FROM cities WHERE city_name = ?\",(city_name.lower(),))\n",
    "    result=c.fetchone()\n",
    "    conn.close()\n",
    "    return {\"price\":result[0]} if result else {\"price\":None}\n",
    "    return {\"price\":\"101\"}"
   ]
  },
  {
   "cell_type": "code",
   "execution_count": 126,
   "id": "73a8efba",
   "metadata": {},
   "outputs": [
    {
     "data": {
      "text/plain": [
       "{'price': 499.0}"
      ]
     },
     "execution_count": 126,
     "metadata": {},
     "output_type": "execute_result"
    }
   ],
   "source": [
    "get_city_price(\"Rome\")"
   ]
  },
  {
   "cell_type": "code",
   "execution_count": 132,
   "id": "91cfe16b",
   "metadata": {},
   "outputs": [],
   "source": [
    "from autogen_agentchat.agents import AssistantAgent\n",
    "from autogen_core.tools import FunctionTool\n",
    "\n",
    "get_city_price_tool = FunctionTool(\n",
    "    func=get_city_price,\n",
    "    description=\"Get the roundtrip ticket price for a city\",\n",
    "    name=\"get_city_price\",        \n",
    "    strict=True            \n",
    ")\n",
    "\n",
    "smart_agent= AssistantAgent(\n",
    "    name=\"smart_airline_agent\",\n",
    "    model_client=model_client,\n",
    "    # system_message=\"You are a helpful assistant for an airline. You give a short, humorous answers, including the price of a roundtrip ticket.\",\n",
    "    system_message='''You are a helpful airline assistant.\n",
    "    Always use the tool i.e 'get_city_price' to fetch the price, and STRICTLY do not assume or hallucinate the price.\n",
    "    Respond with a short, humorous answer that includes the actual price.''',\n",
    "    # model_client_stream=True,\n",
    "    tools=[get_city_price_tool],\n",
    "    # reflect_on_tool_use=True\n",
    ")"
   ]
  },
  {
   "cell_type": "code",
   "execution_count": 133,
   "id": "c22ebbeb",
   "metadata": {},
   "outputs": [
    {
     "name": "stdout",
     "output_type": "stream",
     "text": [
      "Rome, huh?  Sounds romantic!  Just a sec while I check the price...\n",
      "\n",
      "\n",
      "[FunctionCall(id='', arguments='{\"city_name\":\"Rome\"}', name='get_city_price')]\n",
      "[FunctionExecutionResult(content=\"{'price': 499.0}\", name='get_city_price', call_id='', is_error=False)]\n"
     ]
    },
    {
     "data": {
      "text/plain": [
       "\"{'price': 499.0}\""
      ]
     },
     "execution_count": 133,
     "metadata": {},
     "output_type": "execute_result"
    }
   ],
   "source": [
    "response = await smart_agent.on_messages([message],cancellation_token=CancellationToken())\n",
    "\n",
    "for inner_message in response.inner_messages:\n",
    "    print(inner_message.content)\n",
    "\n",
    "response.chat_message.content"
   ]
  },
  {
   "cell_type": "code",
   "execution_count": 134,
   "id": "a99297fc",
   "metadata": {},
   "outputs": [
    {
     "name": "stdout",
     "output_type": "stream",
     "text": [
      "Ah, Rome!  Prepare for pasta and adventure... but first, prepare your wallet! That'll be $499.0 for a roundtrip ticket.  Buon viaggio!\n",
      "\n",
      "messages=[TextMessage(id='de47221e-c754-4763-9f7c-8697a5b32163', source='user', models_usage=None, metadata={}, created_at=datetime.datetime(2025, 8, 21, 8, 44, 16, 382768, tzinfo=datetime.timezone.utc), content=\"I'd like to got to Rome\", type='TextMessage'), TextMessage(id='8e56a770-b894-48e6-b874-fd4e9281ba67', source='smart_airline_agent', models_usage=RequestUsage(prompt_tokens=141, completion_tokens=39), metadata={}, created_at=datetime.datetime(2025, 8, 21, 8, 45, 55, 862059, tzinfo=datetime.timezone.utc), content=\"Ah, Rome!  Prepare for pasta and adventure... but first, prepare your wallet! That'll be $499.0 for a roundtrip ticket.  Buon viaggio!\\n\", type='TextMessage')] stop_reason=None\n"
     ]
    }
   ],
   "source": [
    "result=await smart_agent.run(task=message)\n",
    "\n",
    "print(result.messages[1].content)\n",
    "\n",
    "print(result)"
   ]
  }
 ],
 "metadata": {
  "kernelspec": {
   "display_name": "agenticAI",
   "language": "python",
   "name": "python3"
  },
  "language_info": {
   "codemirror_mode": {
    "name": "ipython",
    "version": 3
   },
   "file_extension": ".py",
   "mimetype": "text/x-python",
   "name": "python",
   "nbconvert_exporter": "python",
   "pygments_lexer": "ipython3",
   "version": "3.13.4"
  }
 },
 "nbformat": 4,
 "nbformat_minor": 5
}
