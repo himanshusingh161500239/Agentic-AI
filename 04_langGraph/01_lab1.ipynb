{
 "cells": [
  {
   "cell_type": "code",
   "execution_count": 39,
   "id": "f7ecc797",
   "metadata": {},
   "outputs": [
    {
     "name": "stdout",
     "output_type": "stream",
     "text": [
      "Collecting langchain_google_genai\n",
      "  Downloading langchain_google_genai-2.1.9-py3-none-any.whl.metadata (7.2 kB)\n",
      "Collecting filetype<2.0.0,>=1.2.0 (from langchain_google_genai)\n",
      "  Downloading filetype-1.2.0-py2.py3-none-any.whl.metadata (6.5 kB)\n",
      "Collecting google-ai-generativelanguage<0.7.0,>=0.6.18 (from langchain_google_genai)\n",
      "  Downloading google_ai_generativelanguage-0.6.18-py3-none-any.whl.metadata (9.8 kB)\n",
      "Requirement already satisfied: langchain-core<0.4.0,>=0.3.68 in /Users/himanshu.r.singh/Desktop/AgenticAI/agenticAI/lib/python3.13/site-packages (from langchain_google_genai) (0.3.72)\n",
      "Requirement already satisfied: pydantic<3,>=2 in /Users/himanshu.r.singh/Desktop/AgenticAI/agenticAI/lib/python3.13/site-packages (from langchain_google_genai) (2.11.7)\n",
      "Requirement already satisfied: google-api-core!=2.0.*,!=2.1.*,!=2.10.*,!=2.2.*,!=2.3.*,!=2.4.*,!=2.5.*,!=2.6.*,!=2.7.*,!=2.8.*,!=2.9.*,<3.0.0,>=1.34.1 in /Users/himanshu.r.singh/Desktop/AgenticAI/agenticAI/lib/python3.13/site-packages (from google-api-core[grpc]!=2.0.*,!=2.1.*,!=2.10.*,!=2.2.*,!=2.3.*,!=2.4.*,!=2.5.*,!=2.6.*,!=2.7.*,!=2.8.*,!=2.9.*,<3.0.0,>=1.34.1->google-ai-generativelanguage<0.7.0,>=0.6.18->langchain_google_genai) (2.25.1)\n",
      "Requirement already satisfied: google-auth!=2.24.0,!=2.25.0,<3.0.0,>=2.14.1 in /Users/himanshu.r.singh/Desktop/AgenticAI/agenticAI/lib/python3.13/site-packages (from google-ai-generativelanguage<0.7.0,>=0.6.18->langchain_google_genai) (2.40.3)\n",
      "Requirement already satisfied: proto-plus<2.0.0,>=1.22.3 in /Users/himanshu.r.singh/Desktop/AgenticAI/agenticAI/lib/python3.13/site-packages (from google-ai-generativelanguage<0.7.0,>=0.6.18->langchain_google_genai) (1.26.1)\n",
      "Requirement already satisfied: protobuf!=4.21.0,!=4.21.1,!=4.21.2,!=4.21.3,!=4.21.4,!=4.21.5,<7.0.0,>=3.20.2 in /Users/himanshu.r.singh/Desktop/AgenticAI/agenticAI/lib/python3.13/site-packages (from google-ai-generativelanguage<0.7.0,>=0.6.18->langchain_google_genai) (5.29.5)\n",
      "Requirement already satisfied: googleapis-common-protos<2.0.0,>=1.56.2 in /Users/himanshu.r.singh/Desktop/AgenticAI/agenticAI/lib/python3.13/site-packages (from google-api-core!=2.0.*,!=2.1.*,!=2.10.*,!=2.2.*,!=2.3.*,!=2.4.*,!=2.5.*,!=2.6.*,!=2.7.*,!=2.8.*,!=2.9.*,<3.0.0,>=1.34.1->google-api-core[grpc]!=2.0.*,!=2.1.*,!=2.10.*,!=2.2.*,!=2.3.*,!=2.4.*,!=2.5.*,!=2.6.*,!=2.7.*,!=2.8.*,!=2.9.*,<3.0.0,>=1.34.1->google-ai-generativelanguage<0.7.0,>=0.6.18->langchain_google_genai) (1.70.0)\n",
      "Requirement already satisfied: requests<3.0.0,>=2.18.0 in /Users/himanshu.r.singh/Desktop/AgenticAI/agenticAI/lib/python3.13/site-packages (from google-api-core!=2.0.*,!=2.1.*,!=2.10.*,!=2.2.*,!=2.3.*,!=2.4.*,!=2.5.*,!=2.6.*,!=2.7.*,!=2.8.*,!=2.9.*,<3.0.0,>=1.34.1->google-api-core[grpc]!=2.0.*,!=2.1.*,!=2.10.*,!=2.2.*,!=2.3.*,!=2.4.*,!=2.5.*,!=2.6.*,!=2.7.*,!=2.8.*,!=2.9.*,<3.0.0,>=1.34.1->google-ai-generativelanguage<0.7.0,>=0.6.18->langchain_google_genai) (2.32.4)\n",
      "Requirement already satisfied: grpcio<2.0.0,>=1.33.2 in /Users/himanshu.r.singh/Desktop/AgenticAI/agenticAI/lib/python3.13/site-packages (from google-api-core[grpc]!=2.0.*,!=2.1.*,!=2.10.*,!=2.2.*,!=2.3.*,!=2.4.*,!=2.5.*,!=2.6.*,!=2.7.*,!=2.8.*,!=2.9.*,<3.0.0,>=1.34.1->google-ai-generativelanguage<0.7.0,>=0.6.18->langchain_google_genai) (1.70.0)\n",
      "Requirement already satisfied: grpcio-status<2.0.0,>=1.33.2 in /Users/himanshu.r.singh/Desktop/AgenticAI/agenticAI/lib/python3.13/site-packages (from google-api-core[grpc]!=2.0.*,!=2.1.*,!=2.10.*,!=2.2.*,!=2.3.*,!=2.4.*,!=2.5.*,!=2.6.*,!=2.7.*,!=2.8.*,!=2.9.*,<3.0.0,>=1.34.1->google-ai-generativelanguage<0.7.0,>=0.6.18->langchain_google_genai) (1.71.2)\n",
      "Requirement already satisfied: cachetools<6.0,>=2.0.0 in /Users/himanshu.r.singh/Desktop/AgenticAI/agenticAI/lib/python3.13/site-packages (from google-auth!=2.24.0,!=2.25.0,<3.0.0,>=2.14.1->google-ai-generativelanguage<0.7.0,>=0.6.18->langchain_google_genai) (5.5.2)\n",
      "Requirement already satisfied: pyasn1-modules>=0.2.1 in /Users/himanshu.r.singh/Desktop/AgenticAI/agenticAI/lib/python3.13/site-packages (from google-auth!=2.24.0,!=2.25.0,<3.0.0,>=2.14.1->google-ai-generativelanguage<0.7.0,>=0.6.18->langchain_google_genai) (0.4.2)\n",
      "Requirement already satisfied: rsa<5,>=3.1.4 in /Users/himanshu.r.singh/Desktop/AgenticAI/agenticAI/lib/python3.13/site-packages (from google-auth!=2.24.0,!=2.25.0,<3.0.0,>=2.14.1->google-ai-generativelanguage<0.7.0,>=0.6.18->langchain_google_genai) (4.9.1)\n",
      "Collecting grpcio<2.0.0,>=1.33.2 (from google-api-core[grpc]!=2.0.*,!=2.1.*,!=2.10.*,!=2.2.*,!=2.3.*,!=2.4.*,!=2.5.*,!=2.6.*,!=2.7.*,!=2.8.*,!=2.9.*,<3.0.0,>=1.34.1->google-ai-generativelanguage<0.7.0,>=0.6.18->langchain_google_genai)\n",
      "  Using cached grpcio-1.74.0-cp313-cp313-macosx_11_0_universal2.whl.metadata (3.8 kB)\n",
      "Requirement already satisfied: langsmith>=0.3.45 in /Users/himanshu.r.singh/Desktop/AgenticAI/agenticAI/lib/python3.13/site-packages (from langchain-core<0.4.0,>=0.3.68->langchain_google_genai) (0.4.8)\n",
      "Requirement already satisfied: tenacity!=8.4.0,<10.0.0,>=8.1.0 in /Users/himanshu.r.singh/Desktop/AgenticAI/agenticAI/lib/python3.13/site-packages (from langchain-core<0.4.0,>=0.3.68->langchain_google_genai) (9.1.2)\n",
      "Requirement already satisfied: jsonpatch<2.0,>=1.33 in /Users/himanshu.r.singh/Desktop/AgenticAI/agenticAI/lib/python3.13/site-packages (from langchain-core<0.4.0,>=0.3.68->langchain_google_genai) (1.33)\n",
      "Requirement already satisfied: PyYAML>=5.3 in /Users/himanshu.r.singh/Desktop/AgenticAI/agenticAI/lib/python3.13/site-packages (from langchain-core<0.4.0,>=0.3.68->langchain_google_genai) (6.0.2)\n",
      "Requirement already satisfied: typing-extensions>=4.7 in /Users/himanshu.r.singh/Desktop/AgenticAI/agenticAI/lib/python3.13/site-packages (from langchain-core<0.4.0,>=0.3.68->langchain_google_genai) (4.14.1)\n",
      "Requirement already satisfied: packaging>=23.2 in /Users/himanshu.r.singh/Desktop/AgenticAI/agenticAI/lib/python3.13/site-packages (from langchain-core<0.4.0,>=0.3.68->langchain_google_genai) (25.0)\n",
      "Requirement already satisfied: jsonpointer>=1.9 in /Users/himanshu.r.singh/Desktop/AgenticAI/agenticAI/lib/python3.13/site-packages (from jsonpatch<2.0,>=1.33->langchain-core<0.4.0,>=0.3.68->langchain_google_genai) (3.0.0)\n",
      "Requirement already satisfied: annotated-types>=0.6.0 in /Users/himanshu.r.singh/Desktop/AgenticAI/agenticAI/lib/python3.13/site-packages (from pydantic<3,>=2->langchain_google_genai) (0.7.0)\n",
      "Requirement already satisfied: pydantic-core==2.33.2 in /Users/himanshu.r.singh/Desktop/AgenticAI/agenticAI/lib/python3.13/site-packages (from pydantic<3,>=2->langchain_google_genai) (2.33.2)\n",
      "Requirement already satisfied: typing-inspection>=0.4.0 in /Users/himanshu.r.singh/Desktop/AgenticAI/agenticAI/lib/python3.13/site-packages (from pydantic<3,>=2->langchain_google_genai) (0.4.1)\n",
      "Requirement already satisfied: charset_normalizer<4,>=2 in /Users/himanshu.r.singh/Desktop/AgenticAI/agenticAI/lib/python3.13/site-packages (from requests<3.0.0,>=2.18.0->google-api-core!=2.0.*,!=2.1.*,!=2.10.*,!=2.2.*,!=2.3.*,!=2.4.*,!=2.5.*,!=2.6.*,!=2.7.*,!=2.8.*,!=2.9.*,<3.0.0,>=1.34.1->google-api-core[grpc]!=2.0.*,!=2.1.*,!=2.10.*,!=2.2.*,!=2.3.*,!=2.4.*,!=2.5.*,!=2.6.*,!=2.7.*,!=2.8.*,!=2.9.*,<3.0.0,>=1.34.1->google-ai-generativelanguage<0.7.0,>=0.6.18->langchain_google_genai) (3.4.2)\n",
      "Requirement already satisfied: idna<4,>=2.5 in /Users/himanshu.r.singh/Desktop/AgenticAI/agenticAI/lib/python3.13/site-packages (from requests<3.0.0,>=2.18.0->google-api-core!=2.0.*,!=2.1.*,!=2.10.*,!=2.2.*,!=2.3.*,!=2.4.*,!=2.5.*,!=2.6.*,!=2.7.*,!=2.8.*,!=2.9.*,<3.0.0,>=1.34.1->google-api-core[grpc]!=2.0.*,!=2.1.*,!=2.10.*,!=2.2.*,!=2.3.*,!=2.4.*,!=2.5.*,!=2.6.*,!=2.7.*,!=2.8.*,!=2.9.*,<3.0.0,>=1.34.1->google-ai-generativelanguage<0.7.0,>=0.6.18->langchain_google_genai) (3.10)\n",
      "Requirement already satisfied: urllib3<3,>=1.21.1 in /Users/himanshu.r.singh/Desktop/AgenticAI/agenticAI/lib/python3.13/site-packages (from requests<3.0.0,>=2.18.0->google-api-core!=2.0.*,!=2.1.*,!=2.10.*,!=2.2.*,!=2.3.*,!=2.4.*,!=2.5.*,!=2.6.*,!=2.7.*,!=2.8.*,!=2.9.*,<3.0.0,>=1.34.1->google-api-core[grpc]!=2.0.*,!=2.1.*,!=2.10.*,!=2.2.*,!=2.3.*,!=2.4.*,!=2.5.*,!=2.6.*,!=2.7.*,!=2.8.*,!=2.9.*,<3.0.0,>=1.34.1->google-ai-generativelanguage<0.7.0,>=0.6.18->langchain_google_genai) (2.5.0)\n",
      "Requirement already satisfied: certifi>=2017.4.17 in /Users/himanshu.r.singh/Desktop/AgenticAI/agenticAI/lib/python3.13/site-packages (from requests<3.0.0,>=2.18.0->google-api-core!=2.0.*,!=2.1.*,!=2.10.*,!=2.2.*,!=2.3.*,!=2.4.*,!=2.5.*,!=2.6.*,!=2.7.*,!=2.8.*,!=2.9.*,<3.0.0,>=1.34.1->google-api-core[grpc]!=2.0.*,!=2.1.*,!=2.10.*,!=2.2.*,!=2.3.*,!=2.4.*,!=2.5.*,!=2.6.*,!=2.7.*,!=2.8.*,!=2.9.*,<3.0.0,>=1.34.1->google-ai-generativelanguage<0.7.0,>=0.6.18->langchain_google_genai) (2025.7.14)\n",
      "Requirement already satisfied: pyasn1>=0.1.3 in /Users/himanshu.r.singh/Desktop/AgenticAI/agenticAI/lib/python3.13/site-packages (from rsa<5,>=3.1.4->google-auth!=2.24.0,!=2.25.0,<3.0.0,>=2.14.1->google-ai-generativelanguage<0.7.0,>=0.6.18->langchain_google_genai) (0.6.1)\n",
      "Requirement already satisfied: httpx<1,>=0.23.0 in /Users/himanshu.r.singh/Desktop/AgenticAI/agenticAI/lib/python3.13/site-packages (from langsmith>=0.3.45->langchain-core<0.4.0,>=0.3.68->langchain_google_genai) (0.28.1)\n",
      "Requirement already satisfied: orjson<4.0.0,>=3.9.14 in /Users/himanshu.r.singh/Desktop/AgenticAI/agenticAI/lib/python3.13/site-packages (from langsmith>=0.3.45->langchain-core<0.4.0,>=0.3.68->langchain_google_genai) (3.11.1)\n",
      "Requirement already satisfied: requests-toolbelt<2.0.0,>=1.0.0 in /Users/himanshu.r.singh/Desktop/AgenticAI/agenticAI/lib/python3.13/site-packages (from langsmith>=0.3.45->langchain-core<0.4.0,>=0.3.68->langchain_google_genai) (1.0.0)\n",
      "Requirement already satisfied: zstandard<0.24.0,>=0.23.0 in /Users/himanshu.r.singh/Desktop/AgenticAI/agenticAI/lib/python3.13/site-packages (from langsmith>=0.3.45->langchain-core<0.4.0,>=0.3.68->langchain_google_genai) (0.23.0)\n",
      "Requirement already satisfied: anyio in /Users/himanshu.r.singh/Desktop/AgenticAI/agenticAI/lib/python3.13/site-packages (from httpx<1,>=0.23.0->langsmith>=0.3.45->langchain-core<0.4.0,>=0.3.68->langchain_google_genai) (4.9.0)\n",
      "Requirement already satisfied: httpcore==1.* in /Users/himanshu.r.singh/Desktop/AgenticAI/agenticAI/lib/python3.13/site-packages (from httpx<1,>=0.23.0->langsmith>=0.3.45->langchain-core<0.4.0,>=0.3.68->langchain_google_genai) (1.0.9)\n",
      "Requirement already satisfied: h11>=0.16 in /Users/himanshu.r.singh/Desktop/AgenticAI/agenticAI/lib/python3.13/site-packages (from httpcore==1.*->httpx<1,>=0.23.0->langsmith>=0.3.45->langchain-core<0.4.0,>=0.3.68->langchain_google_genai) (0.16.0)\n",
      "Requirement already satisfied: sniffio>=1.1 in /Users/himanshu.r.singh/Desktop/AgenticAI/agenticAI/lib/python3.13/site-packages (from anyio->httpx<1,>=0.23.0->langsmith>=0.3.45->langchain-core<0.4.0,>=0.3.68->langchain_google_genai) (1.3.1)\n",
      "Downloading langchain_google_genai-2.1.9-py3-none-any.whl (49 kB)\n",
      "Downloading filetype-1.2.0-py2.py3-none-any.whl (19 kB)\n",
      "Downloading google_ai_generativelanguage-0.6.18-py3-none-any.whl (1.4 MB)\n",
      "\u001b[2K   \u001b[90m━━━━━━━━━━━━━━━━━━━━━━━━━━━━━━━━━━━━━━━━\u001b[0m \u001b[32m1.4/1.4 MB\u001b[0m \u001b[31m8.1 MB/s\u001b[0m eta \u001b[36m0:00:00\u001b[0m\n",
      "\u001b[?25hUsing cached grpcio-1.74.0-cp313-cp313-macosx_11_0_universal2.whl (11.0 MB)\n",
      "Installing collected packages: filetype, grpcio, google-ai-generativelanguage, langchain_google_genai\n",
      "\u001b[2K  Attempting uninstall: grpcio\n",
      "\u001b[2K    Found existing installation: grpcio 1.70.0\n",
      "\u001b[2K    Uninstalling grpcio-1.70.0:\n",
      "\u001b[2K      Successfully uninstalled grpcio-1.70.0\n",
      "\u001b[2K  Attempting uninstall: google-ai-generativelanguage━━━━━━━━━━━━━━\u001b[0m \u001b[32m1/4\u001b[0m [grpcio]\n",
      "\u001b[2K    Found existing installation: google-ai-generativelanguage 0.6.15[32m1/4\u001b[0m [grpcio]\n",
      "\u001b[2K    Uninstalling google-ai-generativelanguage-0.6.15:━━━━━━━━━━━━━\u001b[0m \u001b[32m2/4\u001b[0m [google-ai-generativelanguage]\n",
      "\u001b[2K      Successfully uninstalled google-ai-generativelanguage-0.6.15 \u001b[32m2/4\u001b[0m [google-ai-generativelanguage]\n",
      "\u001b[2K   \u001b[90m━━━━━━━━━━━━━━━━━━━━━━━━━━━━━━━━━━━━━━━━\u001b[0m \u001b[32m4/4\u001b[0m [langchain_google_genai]hain_google_genai]guage]\n",
      "\u001b[1A\u001b[2K\u001b[31mERROR: pip's dependency resolver does not currently take into account all the packages that are installed. This behaviour is the source of the following dependency conflicts.\n",
      "google-generativeai 0.8.5 requires google-ai-generativelanguage==0.6.15, but you have google-ai-generativelanguage 0.6.18 which is incompatible.\u001b[0m\u001b[31m\n",
      "\u001b[0mSuccessfully installed filetype-1.2.0 google-ai-generativelanguage-0.6.18 grpcio-1.74.0 langchain_google_genai-2.1.9\n",
      "\n",
      "\u001b[1m[\u001b[0m\u001b[34;49mnotice\u001b[0m\u001b[1;39;49m]\u001b[0m\u001b[39;49m A new release of pip is available: \u001b[0m\u001b[31;49m25.1.1\u001b[0m\u001b[39;49m -> \u001b[0m\u001b[32;49m25.2\u001b[0m\n",
      "\u001b[1m[\u001b[0m\u001b[34;49mnotice\u001b[0m\u001b[1;39;49m]\u001b[0m\u001b[39;49m To update, run: \u001b[0m\u001b[32;49mpip install --upgrade pip\u001b[0m\n",
      "Note: you may need to restart the kernel to use updated packages.\n"
     ]
    }
   ],
   "source": [
    "%pip install langchain_google_genai"
   ]
  },
  {
   "cell_type": "code",
   "execution_count": 54,
   "id": "1fdd7c3f",
   "metadata": {},
   "outputs": [],
   "source": [
    "from typing import Annotated\n",
    "from langgraph.graph import StateGraph, START, END\n",
    "from langgraph.graph.message import add_messages\n",
    "from dotenv import load_dotenv\n",
    "from IPython.display import Image, display\n",
    "import gradio as gr\n",
    "# from langchain_openai import ChatOpenAI\n",
    "from langchain_google_genai import ChatGoogleGenerativeAI\n",
    "from pydantic import BaseModel\n",
    "import random\n",
    "import os"
   ]
  },
  {
   "cell_type": "code",
   "execution_count": 43,
   "id": "a4e9ff37",
   "metadata": {},
   "outputs": [
    {
     "data": {
      "text/plain": [
       "True"
      ]
     },
     "execution_count": 43,
     "metadata": {},
     "output_type": "execute_result"
    }
   ],
   "source": [
    "load_dotenv(override=True)"
   ]
  },
  {
   "cell_type": "code",
   "execution_count": 44,
   "id": "eac46074",
   "metadata": {},
   "outputs": [],
   "source": [
    "nouns=[\"Cabbages\",\"Unicorns\",\"Toasters\",\"Penguins\",\"Bananas\",\"Zombies\",\"Rainbows\",\"Eels\",\"Pickles\",\"Muffins\"]\n",
    "adjectives=[\"outrageous\",\"smelly\",\"pedantic\",\"existential\",\"moody\",\"sparkly\",\"untrustworthy\",\"sarcastic\",\"squishy\",\"haunted\"]"
   ]
  },
  {
   "cell_type": "code",
   "execution_count": 45,
   "id": "5361088b",
   "metadata": {},
   "outputs": [
    {
     "name": "stdout",
     "output_type": "stream",
     "text": [
      "HELLO\n"
     ]
    },
    {
     "data": {
      "text/plain": [
       "'HELLO'"
      ]
     },
     "execution_count": 45,
     "metadata": {},
     "output_type": "execute_result"
    }
   ],
   "source": [
    "# def shout(text:str) -> str:\n",
    "#     print(text.upper())\n",
    "#     return text.upper()\n",
    "\n",
    "\n",
    "def shout(text:Annotated[str,\"something to be shouted\"]) -> str:\n",
    "    print(text.upper())\n",
    "    return text.upper()\n",
    "\n",
    "shout(\"Hello\")"
   ]
  },
  {
   "cell_type": "markdown",
   "id": "cdf542f2",
   "metadata": {},
   "source": [
    "<h3>Annotated</h3><br>\n",
    "Type hinting is a feature in Python that lets you specify the type of something:\n",
    "\n",
    "my_favorite_things: List\n",
    "\n",
    "But we can also use something called \"Annotated\" to add extra information that somebody else might find useful:\n",
    "\n",
    "my_favorite_things: Annotated[List, \"these are a few of mine\"]\n",
    "\n",
    "LangGraph uses this feature when we define our State object.\n",
    "\n",
    "It wants us to tell it what function it should call to update the State with a new value.\n",
    "\n",
    "This function is called a reducer.\n",
    "\n",
    "LangGraph provides a default reducer called add_messages which takes care of the most common case."
   ]
  },
  {
   "cell_type": "code",
   "execution_count": 46,
   "id": "22f577c8",
   "metadata": {},
   "outputs": [],
   "source": [
    "# Step 1: Define the State Object\n",
    "\n",
    "class State(BaseModel):\n",
    "    messages: Annotated[list,add_messages]"
   ]
  },
  {
   "cell_type": "code",
   "execution_count": 47,
   "id": "8ec03873",
   "metadata": {},
   "outputs": [],
   "source": [
    "# Step 2: Start the Graph Builder with this State class\n",
    "graph_builder=StateGraph(State)"
   ]
  },
  {
   "cell_type": "code",
   "execution_count": 48,
   "id": "ff464195",
   "metadata": {},
   "outputs": [
    {
     "data": {
      "text/plain": [
       "<langgraph.graph.state.StateGraph at 0x140181a90>"
      ]
     },
     "execution_count": 48,
     "metadata": {},
     "output_type": "execute_result"
    }
   ],
   "source": [
    "#  Step 3: Create a Node\n",
    "\n",
    "def our_first_node(state: State) -> State:\n",
    "    reply = f\"{random.choice(nouns)} are {random.choice(adjectives)}\"\n",
    "    messages = [{\"role\": \"assistant\", \"content\": reply}]\n",
    "\n",
    "    new_state = State(messages=messages)\n",
    "    return new_state\n",
    "\n",
    "\n",
    "graph_builder.add_node(\"first_node\",our_first_node)"
   ]
  },
  {
   "cell_type": "code",
   "execution_count": 49,
   "id": "368ac602",
   "metadata": {},
   "outputs": [
    {
     "data": {
      "text/plain": [
       "<langgraph.graph.state.StateGraph at 0x140181a90>"
      ]
     },
     "execution_count": 49,
     "metadata": {},
     "output_type": "execute_result"
    }
   ],
   "source": [
    "# Step 4: Create Edges\n",
    "graph_builder.add_edge(START,\"first_node\")\n",
    "graph_builder.add_edge(\"first_node\",END)"
   ]
  },
  {
   "cell_type": "code",
   "execution_count": 50,
   "id": "3b5e3602",
   "metadata": {},
   "outputs": [],
   "source": [
    "# Step 5: Complie the Graph\n",
    "graph=graph_builder.compile()"
   ]
  },
  {
   "cell_type": "code",
   "execution_count": 51,
   "id": "7f0c4af4",
   "metadata": {},
   "outputs": [
    {
     "data": {
      "image/png": "[encoded data removed]",
      "text/plain": [
       "<IPython.core.display.Image object>"
      ]
     },
     "metadata": {},
     "output_type": "display_data"
    }
   ],
   "source": [
    "display(Image(graph.get_graph().draw_mermaid_png()))"
   ]
  },
  {
   "cell_type": "code",
   "execution_count": 35,
   "id": "dc5b2923",
   "metadata": {},
   "outputs": [
    {
     "name": "stdout",
     "output_type": "stream",
     "text": [
      "* Running on local URL:  http://127.0.0.1:7862\n",
      "* To create a public link, set `share=True` in `launch()`.\n"
     ]
    },
    {
     "data": {
      "text/html": [
       "<div><iframe src=\"http://127.0.0.1:7862/\" width=\"100%\" height=\"500\" allow=\"autoplay; camera; microphone; clipboard-read; clipboard-write;\" frameborder=\"0\" allowfullscreen></iframe></div>"
      ],
      "text/plain": [
       "<IPython.core.display.HTML object>"
      ]
     },
     "metadata": {},
     "output_type": "display_data"
    },
    {
     "data": {
      "text/plain": []
     },
     "execution_count": 35,
     "metadata": {},
     "output_type": "execute_result"
    },
    {
     "name": "stdout",
     "output_type": "stream",
     "text": [
      "{'messages': [HumanMessage(content='hi', additional_kwargs={}, response_metadata={}, id='09753ab5-4f5f-48be-8086-3bdbbb8e2488'), AIMessage(content='Eels are haunted', additional_kwargs={}, response_metadata={}, id='5cd1f351-ffe9-47c8-99ed-8d5df07509a3')]}\n",
      "{'messages': [HumanMessage(content='Are you serious?', additional_kwargs={}, response_metadata={}, id='3c2b96d7-a203-420b-a50a-0427ffe82871'), AIMessage(content='Penguins are haunted', additional_kwargs={}, response_metadata={}, id='72513d17-648f-4860-abf9-baad9ba01963')]}\n",
      "{'messages': [HumanMessage(content='what are you talking', additional_kwargs={}, response_metadata={}, id='e7714079-b89c-45a5-9ddc-6e44010aa0a8'), AIMessage(content='Rainbows are smelly', additional_kwargs={}, response_metadata={}, id='2e9f3f9c-fa09-4a32-a67f-0112a8a50e4d')]}\n",
      "{'messages': [HumanMessage(content='really?', additional_kwargs={}, response_metadata={}, id='da01c2f5-38f1-4ca5-8b06-9b6225080000'), AIMessage(content='Rainbows are untrustworthy', additional_kwargs={}, response_metadata={}, id='bc91c937-29b6-4820-8b31-cb75dd5a0ed1')]}\n"
     ]
    }
   ],
   "source": [
    "def chat(user_input:str,history):\n",
    "    message={\"role\":\"user\",\"content\":user_input}\n",
    "    messages=[message]\n",
    "    state=State(messages=messages)\n",
    "    result=graph.invoke(state)\n",
    "    print(result)\n",
    "    return result[\"messages\"][-1].content\n",
    "\n",
    "gr.ChatInterface(chat,type=\"messages\").launch()"
   ]
  },
  {
   "cell_type": "markdown",
   "id": "8ab26a7a",
   "metadata": {},
   "source": [
    "<h3>Now we will follow all the five steps one more time with llm integrated into it</h3>"
   ]
  },
  {
   "cell_type": "code",
   "execution_count": 52,
   "id": "cef97863",
   "metadata": {},
   "outputs": [],
   "source": [
    "class State(BaseModel):\n",
    "    messages:Annotated[list, add_messages]"
   ]
  },
  {
   "cell_type": "code",
   "execution_count": 53,
   "id": "14a930a4",
   "metadata": {},
   "outputs": [],
   "source": [
    "graph_builder=StateGraph(State)"
   ]
  },
  {
   "cell_type": "code",
   "execution_count": 55,
   "id": "b18b1108",
   "metadata": {},
   "outputs": [
    {
     "data": {
      "text/plain": [
       "<langgraph.graph.state.StateGraph at 0x140181bd0>"
      ]
     },
     "execution_count": 55,
     "metadata": {},
     "output_type": "execute_result"
    }
   ],
   "source": [
    "llm=ChatGoogleGenerativeAI(model=\"gemini-2.0-flash-001\",google_api_key=os.getenv('GEMINI_ACCESS_KEY'))\n",
    "\n",
    "\n",
    "def chatbot_node(old_state: State) -> State:\n",
    "    response=llm.invoke(old_state.messages)\n",
    "    new_state=State(messages=[response])\n",
    "    return new_state\n",
    "\n",
    "graph_builder.add_node(\"chatbot\",chatbot_node)"
   ]
  },
  {
   "cell_type": "code",
   "execution_count": 56,
   "id": "94051d11",
   "metadata": {},
   "outputs": [
    {
     "data": {
      "text/plain": [
       "<langgraph.graph.state.StateGraph at 0x140181bd0>"
      ]
     },
     "execution_count": 56,
     "metadata": {},
     "output_type": "execute_result"
    }
   ],
   "source": [
    "graph_builder.add_edge(START,\"chatbot\")\n",
    "graph_builder.add_edge(\"chatbot\",END)"
   ]
  },
  {
   "cell_type": "code",
   "execution_count": 57,
   "id": "ee039765",
   "metadata": {},
   "outputs": [
    {
     "data": {
      "image/png": "[encoded data removed]",
      "text/plain": [
       "<IPython.core.display.Image object>"
      ]
     },
     "metadata": {},
     "output_type": "display_data"
    }
   ],
   "source": [
    "graph=graph_builder.compile()\n",
    "display(Image(graph.get_graph().draw_mermaid_png()))"
   ]
  },
  {
   "cell_type": "code",
   "execution_count": null,
   "id": "3fb76a91",
   "metadata": {},
   "outputs": [],
   "source": [
    "def chat(user_input:str,history):\n",
    "    initial_state=State(messages=[{\"role\":\"user\",\"content\":user_input}])\n",
    "    result=graph.invoke(initial_state)\n",
    "    print(result)\n",
    "    return result['messages'][-1].content\n",
    "\n",
    "gr.ChatInterface(chat,type=\"messages\").launch()"
   ]
  }
 ],
 "metadata": {
  "kernelspec": {
   "display_name": "agenticAI",
   "language": "python",
   "name": "python3"
  },
  "language_info": {
   "codemirror_mode": {
    "name": "ipython",
    "version": 3
   },
   "file_extension": ".py",
   "mimetype": "text/x-python",
   "name": "python",
   "nbconvert_exporter": "python",
   "pygments_lexer": "ipython3",
   "version": "3.13.4"
  }
 },
 "nbformat": 4,
 "nbformat_minor": 5
}
