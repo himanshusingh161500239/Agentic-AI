{
 "cells": [
  {
   "cell_type": "code",
   "execution_count": null,
   "id": "0642cc52",
   "metadata": {},
   "outputs": [],
   "source": [
    "%pip install -U langgraph \"langchain[openai]\" langchain-community langchain-text-splitters chromadb"
   ]
  },
  {
   "cell_type": "code",
   "execution_count": 10,
   "id": "aea7647d",
   "metadata": {},
   "outputs": [
    {
     "data": {
      "text/plain": [
       "True"
      ]
     },
     "execution_count": 10,
     "metadata": {},
     "output_type": "execute_result"
    }
   ],
   "source": [
    "from langchain_community.document_loaders import WebBaseLoader\n",
    "from langchain_text_splitters import RecursiveCharacterTextSplitter\n",
    "from langchain_core.vectorstores import InMemoryVectorStore  # or Qdrant, Chroma\n",
    "# from langchain_openai import OpenAIEmbeddings\n",
    "from langchain_google_genai import GoogleGenerativeAIEmbeddings\n",
    "from langchain_google_genai import ChatGoogleGenerativeAI\n",
    "from langchain.tools.retriever import create_retriever_tool\n",
    "from dotenv import load_dotenv\n",
    "from IPython.display import Image, display\n",
    "import os\n",
    "load_dotenv(override=True)"
   ]
  },
  {
   "cell_type": "code",
   "execution_count": 11,
   "id": "a7d0af8d",
   "metadata": {},
   "outputs": [],
   "source": [
    "# Gemini for reasoning/answer generation\n",
    "llm = ChatGoogleGenerativeAI(model=\"gemini-2.0-flash-001\",google_api_key=os.getenv('GEMINI_ACCESS_KEY'))  # or \"gemini-1.5-pro\"\n",
    "\n",
    "# Gemini embeddings for vector store\n",
    "embeddings = GoogleGenerativeAIEmbeddings(model=\"models/embedding-001\",google_api_key=os.getenv('GEMINI_ACCESS_KEY'))"
   ]
  },
  {
   "cell_type": "code",
   "execution_count": 12,
   "id": "0ed06225",
   "metadata": {},
   "outputs": [],
   "source": [
    "urls = [\n",
    "    \"https://python.langchain.com/docs/\",\n",
    "    \"https://qdrant.tech/documentation/\",\n",
    "    \"https://blog.langchain.com/agentic-rag-with-langgraph/\"\n",
    "]"
   ]
  },
  {
   "cell_type": "code",
   "execution_count": 15,
   "id": "f617fe89",
   "metadata": {},
   "outputs": [],
   "source": [
    "# Load & split\n",
    "# docs = [WebBaseLoader(url).load()[0] for url in urls]\n",
    "docs = []\n",
    "for url in urls:\n",
    "    loaded = WebBaseLoader(url).load()\n",
    "    docs.extend(loaded) \n",
    "\n",
    "docs_list = docs\n",
    "splitter = RecursiveCharacterTextSplitter.from_tiktoken_encoder(chunk_size=1000, chunk_overlap=50)\n",
    "# splits = splitter.split_documents(docs_list)\n",
    "splits = splitter.split_documents(docs)\n",
    "\n",
    "# Extract only text from the documents\n",
    "texts = [doc.page_content for doc in splits]\n",
    "\n",
    "# Now embed only the text\n",
    "vectorstore = InMemoryVectorStore.from_texts(texts, embedding=embeddings)\n",
    "retriever = vectorstore.as_retriever()\n",
    "retriever_tool = create_retriever_tool(retriever, \"retrieve\", \"Retrieve relevant docs.\")\n",
    "# tool=[retriever_tool]\n",
    "# llm_with_tools=llm.bind_tools(tool)"
   ]
  },
  {
   "cell_type": "code",
   "execution_count": 16,
   "id": "5c304a96",
   "metadata": {},
   "outputs": [],
   "source": [
    "def decide_to_generate(state):\n",
    "    \"\"\"\n",
    "    Looks at the document grading results in the state.\n",
    "    Returns which edge to follow.\n",
    "    \"\"\"\n",
    "    # Suppose state[\"documents\"] contains a list of (doc, relevance_score)\n",
    "    grades = state.get(\"doc_grades\", [])\n",
    "\n",
    "    if all(grade == \"relevant\" for grade in grades):\n",
    "        return \"generate_answer\"\n",
    "    else:\n",
    "        return \"rewrite_query\"\n"
   ]
  },
  {
   "cell_type": "code",
   "execution_count": 35,
   "id": "17d080d9",
   "metadata": {},
   "outputs": [
    {
     "data": {
      "image/png": "[encoded data removed]",
      "text/plain": [
       "<IPython.core.display.Image object>"
      ]
     },
     "metadata": {},
     "output_type": "display_data"
    }
   ],
   "source": [
    "from typing import Annotated\n",
    "from typing_extensions import TypedDict\n",
    "from langgraph.graph import StateGraph, START, END\n",
    "from langgraph.graph.message import add_messages\n",
    "\n",
    "# --- Define State ---\n",
    "class State(TypedDict):\n",
    "    messages: Annotated[list, add_messages]\n",
    "\n",
    "# Use retriever inside the node\n",
    "def retrieve(state: State):\n",
    "    print(\"🔎 retrieving docs...\")\n",
    "    last_message = state[\"messages\"][-1]\n",
    "    # If last_message is a dict, extract the content\n",
    "    if isinstance(last_message, dict):\n",
    "        query = last_message.get(\"content\", \"\")\n",
    "    else:\n",
    "        query = last_message\n",
    "    # Ensure query is a string\n",
    "    if not isinstance(query, str):\n",
    "        query = str(query)\n",
    "    docs = retriever.get_relevant_documents(query)\n",
    "    state[\"retrieved_docs\"] = docs\n",
    "    return {\"messages\": state[\"messages\"] + [f\"Retrieved {len(docs)} docs\"]}\n",
    "\n",
    "\n",
    "# Grade docs (simple heuristic for now)\n",
    "def grade_documents(state: State):\n",
    "    print(\"📝 grading docs...\")\n",
    "    if state.get(\"retrieved_docs\"):\n",
    "        state[\"doc_grades\"] = [\"relevant\"] * len(state[\"retrieved_docs\"])\n",
    "    else:\n",
    "        state[\"doc_grades\"] = [\"irrelevant\"]\n",
    "    return {\"messages\": state[\"messages\"] + [\"Docs graded\"]}\n",
    "\n",
    "# Generate final answer using Gemini\n",
    "def generate_answer(state: State):\n",
    "    print(\"💡 generating final answer with Gemini...\")\n",
    "    query = state[\"messages\"][0]  # original user query\n",
    "    docs = state.get(\"retrieved_docs\", [])\n",
    "    context = \"\\n\\n\".join(d.page_content for d in docs)\n",
    "    prompt = f\"Answer the question: {query}\\n\\nContext:\\n{context}\"\n",
    "    \n",
    "    response = llm.invoke(prompt)   # <-- here Gemini is called\n",
    "    return {\"messages\": state[\"messages\"] + [response.content]}\n",
    "\n",
    "\n",
    "\n",
    "\n",
    "def rewrite_query(state: State):\n",
    "    print(\"🔄 rewriting query...\")\n",
    "    return {\"messages\": state[\"messages\"] + [\"rewritten query\"]}\n",
    "\n",
    "def web_search(state: State):\n",
    "    print(\"🌍 doing web search...\")\n",
    "    return {\"messages\": state[\"messages\"] + [\"searched web\"]}\n",
    "\n",
    "# --- Build graph ---\n",
    "agentic_rag = StateGraph(State)\n",
    "\n",
    "# Register all nodes\n",
    "agentic_rag.add_node(\"retrieve\", retrieve)\n",
    "agentic_rag.add_node(\"grade_documents\", grade_documents)\n",
    "agentic_rag.add_node(\"rewrite_query\", rewrite_query)\n",
    "agentic_rag.add_node(\"web_search\", web_search)\n",
    "agentic_rag.add_node(\"generate_answer\", generate_answer)\n",
    "\n",
    "# Wire edges\n",
    "agentic_rag.set_entry_point(\"retrieve\")  # or agentic_rag.add_edge(START, \"retrieve\")\n",
    "agentic_rag.add_edge(\"retrieve\", \"grade_documents\")\n",
    "agentic_rag.add_conditional_edges(\n",
    "    \"grade_documents\",\n",
    "    decide_to_generate,\n",
    "    {\"rewrite_query\": \"rewrite_query\", \"generate_answer\": \"generate_answer\"}\n",
    ")\n",
    "agentic_rag.add_edge(\"rewrite_query\", \"web_search\")\n",
    "agentic_rag.add_edge(\"web_search\", \"generate_answer\")\n",
    "agentic_rag.add_edge(\"generate_answer\", END)\n",
    "\n",
    "# Compile graph\n",
    "app = agentic_rag.compile()\n",
    "display(Image(app.get_graph().draw_mermaid_png()))\n",
    "\n",
    "# # --- Run ---\n",
    "# result = app.invoke({\"messages\": [\"What is Agentic RAG?\"]})\n",
    "# print(\"Result:\", result)\n"
   ]
  },
  {
   "cell_type": "code",
   "execution_count": 38,
   "id": "e7a08c52",
   "metadata": {},
   "outputs": [
    {
     "name": "stdout",
     "output_type": "stream",
     "text": [
      "🔎 retrieving docs...\n",
      "📝 grading docs...\n",
      "💡 generating final answer with Gemini...\n",
      "Agentic LangGraph is a framework built on top of LangChain that makes it easier to create complex, stateful, multi-agent workflows. It allows you to define a graph where each node represents an agent (or other function), and the edges represent the flow of information between them.  Crucially, LangGraph maintains a state that is passed between these agents, allowing them to build upon each other's work and make decisions based on the entire history of the interaction. This statefulness is key to creating more sophisticated and reliable agentic workflows compared to simpler chained approaches.\n",
      "\n",
      "Here's a breakdown of what makes it important:\n",
      "\n",
      "*   **Stateful Agent Orchestration:** LangGraph centers around the idea of a state that evolves as agents interact. This state can contain information gathered from previous steps, agent outputs, and other relevant data. This shared context allows agents to reason about the overall progress and make more informed decisions.\n",
      "\n",
      "*   **Graph-Based Structure:** Instead of a linear chain, LangGraph uses a graph structure to define the flow of execution. This offers greater flexibility in designing complex workflows, allowing for loops, conditional branching, and parallel execution.\n",
      "\n",
      "*   **Agentic Workflows:** It is designed explicitly for building multi-agent systems where agents collaborate to achieve a common goal. Each agent can have its own tools, instructions, and decision-making logic.\n",
      "\n",
      "*   **Integration with LangChain:** LangGraph seamlessly integrates with LangChain's existing components, such as LLMs, tools, and memory modules. This allows you to leverage your existing LangChain knowledge and resources.\n",
      "\n",
      "*   **Improved Reliability and Explainability:** By explicitly defining the flow of information and maintaining a state, LangGraph can improve the reliability and explainability of agentic workflows. It becomes easier to track the reasoning process and debug issues.\n",
      "\n",
      "In essence, Agentic LangGraph provides a powerful and structured way to build complex, collaborative AI systems by managing state and orchestrating interactions between multiple agents in a graph-based architecture.\n"
     ]
    }
   ],
   "source": [
    "result = app.invoke({\"messages\": [{\"role\": \"user\", \"content\": \"What is Agentic langGraph?\"}]})\n",
    "print(result[\"messages\"][-1].content)"
   ]
  },
  {
   "cell_type": "code",
   "execution_count": 37,
   "id": "ba88c86e",
   "metadata": {},
   "outputs": [
    {
     "name": "stdout",
     "output_type": "stream",
     "text": [
      "🔎 retrieving docs...\n",
      "📝 grading docs...\n",
      "💡 generating final answer with Gemini...\n",
      "gRPC (gRPC Remote Procedure Call) is a modern, open-source, high-performance remote procedure call (RPC) framework.  It's designed to connect services together and is particularly well-suited for:\n",
      "\n",
      "*   **Microservices Architectures:** gRPC excels in microservices environments, enabling efficient communication between different services.\n",
      "*   **Mobile Applications:**  It's optimized for low-power devices and unreliable networks, making it suitable for communication between mobile apps and backend services.\n",
      "*   **Browser-to-Backend Communication:** While traditionally more complex, gRPC-Web allows browsers to communicate with gRPC backends.\n",
      "*   **Polyglot Environments:** gRPC supports multiple programming languages, making it possible to build services in different languages and have them communicate seamlessly.\n",
      "\n",
      "**Key characteristics of gRPC:**\n",
      "\n",
      "*   **Protocol Buffers (protobuf):** gRPC uses protocol buffers as its Interface Definition Language (IDL) and message interchange format.  Protobuf is a language-neutral, platform-neutral, extensible mechanism for serializing structured data. It's more efficient than JSON or XML.\n",
      "*   **HTTP/2:** gRPC leverages HTTP/2 for transport.  This provides advantages like:\n",
      "    *   **Multiplexing:**  Multiple requests can be sent over a single TCP connection.\n",
      "    *   **Header Compression:** Reduces overhead.\n",
      "    *   **Server Push:** The server can proactively send data to the client.\n",
      "    *   **Bidirectional Streaming:**  The client and server can both send streams of data simultaneously.\n",
      "*   **Code Generation:**  gRPC provides tools to automatically generate client and server code from the protobuf service definitions. This simplifies development and reduces the potential for errors.\n",
      "*   **Streaming:** gRPC supports various streaming patterns:\n",
      "    *   **Unary:** Standard request/response.\n",
      "    *   **Server Streaming:** The server sends a stream of responses to a single client request.\n",
      "    *   **Client Streaming:** The client sends a stream of requests to the server.\n",
      "    *   **Bidirectional Streaming:** Both client and server send streams of requests and responses.\n",
      "*   **Strong Typing:**  Using Protocol Buffers enforces strong typing, which helps catch errors early in the development process.\n",
      "*   **Pluggable:** gRPC offers various extension points for authentication, authorization, monitoring, and logging.\n",
      "\n",
      "In summary, gRPC is a robust and efficient framework for building distributed systems, offering performance, strong typing, and support for a variety of languages and platforms. It's a good choice when you need high performance and low latency communication between services.\n"
     ]
    }
   ],
   "source": [
    "result = app.invoke({\"messages\": [{\"role\": \"user\", \"content\": \"What is grpc?\"}]})\n",
    "print(result[\"messages\"][-1].content)"
   ]
  },
  {
   "cell_type": "code",
   "execution_count": 36,
   "id": "25a12621",
   "metadata": {},
   "outputs": [
    {
     "name": "stdout",
     "output_type": "stream",
     "text": [
      "🔎 retrieving docs...\n",
      "📝 grading docs...\n",
      "💡 generating final answer with Gemini...\n",
      "Please provide the context! I need the context to answer the question \"What is Self RAG?\" effectively. I will use the context to give you a comprehensive and relevant answer.\n"
     ]
    }
   ],
   "source": [
    "result = app.invoke({\"messages\": [{\"role\": \"user\", \"content\": \"What is Self RAG?\"}]})\n",
    "print(result[\"messages\"][-1].content)"
   ]
  }
 ],
 "metadata": {
  "kernelspec": {
   "display_name": "agenticAI",
   "language": "python",
   "name": "python3"
  },
  "language_info": {
   "codemirror_mode": {
    "name": "ipython",
    "version": 3
   },
   "file_extension": ".py",
   "mimetype": "text/x-python",
   "name": "python",
   "nbconvert_exporter": "python",
   "pygments_lexer": "ipython3",
   "version": "3.13.4"
  }
 },
 "nbformat": 4,
 "nbformat_minor": 5
}
