{
 "cells": [
  {
   "cell_type": "code",
   "execution_count": 7,
   "id": "271ff001",
   "metadata": {},
   "outputs": [],
   "source": [
    "from typing import Annotated\n",
    "from typing_extensions import TypedDict\n",
    "from langgraph.graph import StateGraph,START,END\n",
    "from langgraph.graph.message import add_messages\n",
    "from dotenv import load_dotenv\n",
    "from IPython.display import Image, display\n",
    "import gradio as gr\n",
    "from typing_extensions import TypedDict\n",
    "from langgraph.graph import StateGraph\n",
    "from langgraph.prebuilt import ToolNode, tools_condition\n",
    "import requests\n",
    "import os\n",
    "\n",
    "from langchain.agents import Tool\n",
    "\n",
    "from langchain_google_genai import ChatGoogleGenerativeAI\n",
    "from langgraph.checkpoint.memory import MemorySaver"
   ]
  },
  {
   "cell_type": "code",
   "execution_count": 8,
   "id": "56201356",
   "metadata": {},
   "outputs": [
    {
     "data": {
      "text/plain": [
       "True"
      ]
     },
     "execution_count": 8,
     "metadata": {},
     "output_type": "execute_result"
    }
   ],
   "source": [
    "load_dotenv(override=True)"
   ]
  },
  {
   "cell_type": "markdown",
   "id": "61fcbbcd",
   "metadata": {},
   "source": [
    "<h4>Asynchronous LangGraph</h4>\n",
    "To run a tool:\n",
    "Sync: <code>tool.run(inputs)</code><br>\n",
    "Async: <code>await tool.arun(inputs)</code>\n",
    "\n",
    "To invoke the graph:<br>\n",
    "Sync: <code>graph.invoke(state)</code><br>\n",
    "Async: <code>await graph.ainvoke(state)</code>"
   ]
  },
  {
   "cell_type": "code",
   "execution_count": 9,
   "id": "1886d5ec",
   "metadata": {},
   "outputs": [],
   "source": [
    "class State(TypedDict):\n",
    "    messages:Annotated[list,add_messages]\n",
    "\n",
    "graph_builder=StateGraph(State)"
   ]
  },
  {
   "cell_type": "code",
   "execution_count": 10,
   "id": "ad2c689b",
   "metadata": {},
   "outputs": [],
   "source": [
    "pushover_token=os.getenv(\"PUSHOVER_TOKEN\")\n",
    "pushover_user=os.getenv(\"PUSHOVER_USER\")\n",
    "pushover_url=os.getenv(\"PUSHOVER_URL\")\n",
    "\n",
    "def push(text: str):\n",
    "    \"\"\" Send a push notification to the user \"\"\"\n",
    "    requests.post(pushover_url,data={\"token\":pushover_token,\"user\":pushover_user,\"message\":text})\n",
    "\n",
    "tool_push=Tool(\n",
    "    name=\"send_push_notification\",\n",
    "    func=push,\n",
    "    description=\"useful for when we want to send a push notification\"\n",
    ")"
   ]
  },
  {
   "cell_type": "code",
   "execution_count": 31,
   "id": "99b9eeba",
   "metadata": {},
   "outputs": [],
   "source": [
    "# Introducing nest_asyncio\n",
    "# Python async code only allows for one \"event loop\" processing aynchronous events.\n",
    "# The `nest_asyncio` library patches this, and is used for special situations, if you need to run a nested event loop.\n",
    "\n",
    "# import nest_asyncio\n",
    "# nest_asyncio.apply()\n",
    "\n",
    "import os\n",
    "os.environ[\"UVLOOP_NO_EXTENSIONS\"] = \"1\"\n",
    "\n",
    "import asyncio, nest_asyncio\n",
    "try:\n",
    "    loop = asyncio.get_event_loop()\n",
    "except RuntimeError:\n",
    "    loop = asyncio.new_event_loop()\n",
    "    asyncio.set_event_loop(loop)\n",
    "\n",
    "nest_asyncio.apply()\n",
    "\n"
   ]
  },
  {
   "cell_type": "markdown",
   "id": "4ca62d6f",
   "metadata": {},
   "source": [
    "<h2>Let's try to integrate ZenRows for webscrapping</h2>"
   ]
  },
  {
   "cell_type": "code",
   "execution_count": 42,
   "id": "b4fcd1bb",
   "metadata": {},
   "outputs": [],
   "source": [
    "# from langchain_community.agent_toolkits import PlayWrightBrowserToolkit\n",
    "# from langchain_community.tools.playwright.utils import create_async_playwright_browser\n",
    "\n",
    "# # If you get a NotImplementedError here or later, see the Heads Up at the top of the notebook\n",
    "\n",
    "# async_browser =  create_async_playwright_browser(headless=False)  # headful mode\n",
    "# toolkit = PlayWrightBrowserToolkit.from_browser(async_browser=async_browser)\n",
    "# tools = toolkit.get_tools()\n",
    "\n",
    "\n",
    "from langgraph.prebuilt import ToolNode, tools_condition\n",
    "from bs4 import BeautifulSoup\n",
    "\n",
    "def navigate_url(inputs: dict) -> str:\n",
    "    \"\"\"Fetch a webpage (JS rendered) via ZenRows API.\"\"\"\n",
    "    url = inputs.get(\"url\")\n",
    "    resp = requests.get(\n",
    "        \"https://api.zenrows.com/v1/\",\n",
    "        params={\"url\": url, \"apikey\": os.getenv('ZENROWS_API_KEY')}\n",
    "    )\n",
    "    return resp.text\n",
    "\n",
    "def extract_text(inputs: dict) -> str:\n",
    "    \"\"\"Extract visible text from previously fetched HTML.\"\"\"\n",
    "    html = inputs.get(\"html\")\n",
    "    if not html:\n",
    "        return \"No HTML provided\"\n",
    "    soup = BeautifulSoup(html, \"html.parser\")\n",
    "    return soup.get_text(\" \", strip=True)\n",
    "\n",
    "# Wrap as LangChain Tools\n",
    "navigate_tool = Tool(\n",
    "    name=\"navigate_url\",\n",
    "    func=navigate_url,\n",
    "    description=\"Navigate to a URL and fetch its rendered HTML using ZenRows.\"\n",
    ")\n",
    "\n",
    "extract_text_tool = Tool(\n",
    "    name=\"extract_text\",\n",
    "    func=extract_text,\n",
    "    description=\"Extract plain text content from HTML.\"\n",
    ")"
   ]
  },
  {
   "cell_type": "code",
   "execution_count": 43,
   "id": "f760546d",
   "metadata": {},
   "outputs": [],
   "source": [
    "tools = [tool_push, navigate_tool, extract_text_tool]"
   ]
  },
  {
   "cell_type": "code",
   "execution_count": 44,
   "id": "44be3488",
   "metadata": {},
   "outputs": [],
   "source": [
    "from langgraph.checkpoint.memory import MemorySaver\n",
    "\n",
    "memory=MemorySaver()"
   ]
  },
  {
   "cell_type": "code",
   "execution_count": 45,
   "id": "80cb1382",
   "metadata": {},
   "outputs": [
    {
     "data": {
      "image/png": "[encoded data removed]",
      "text/plain": [
       "<IPython.core.display.Image object>"
      ]
     },
     "metadata": {},
     "output_type": "display_data"
    }
   ],
   "source": [
    "# Step 1 and 2\n",
    "\n",
    "# Step 1: Define the State object\n",
    "class State(TypedDict):\n",
    "    messages:Annotated[list,add_messages]\n",
    "\n",
    "graph_builder = StateGraph(State)\n",
    "\n",
    "# Step 3\n",
    "llm=ChatGoogleGenerativeAI(model=\"gemini-2.0-flash-001\",google_api_key=os.getenv('GEMINI_ACCESS_KEY'))\n",
    "llm_with_toolss=llm.bind_tools(tools)\n",
    "\n",
    "\n",
    "async def chatbot(state: State):\n",
    "    # return {\"messages\":[llm_with_toolss.invoke(state[\"messages\"])]}\n",
    "    return {\"messages\":[await llm_with_toolss.ainvoke(state[\"messages\"])]}\n",
    "\n",
    "graph_builder.add_node(\"chatbot\",chatbot)\n",
    "graph_builder.add_node(\"tools\",ToolNode(tools=tools))\n",
    "\n",
    "# Step 4\n",
    "graph_builder.add_conditional_edges(\"chatbot\",tools_condition,\"tools\")\n",
    "graph_builder.add_edge(\"tools\",\"chatbot\")\n",
    "graph_builder.add_edge(START,\"chatbot\")\n",
    "graph_builder.add_edge(\"chatbot\", END)\n",
    "\n",
    "# Step 5\n",
    "graph = graph_builder.compile(checkpointer=memory)\n",
    "display(Image(graph.get_graph().draw_mermaid_png()))"
   ]
  },
  {
   "cell_type": "code",
   "execution_count": 39,
   "id": "746179b9",
   "metadata": {},
   "outputs": [
    {
     "name": "stdout",
     "output_type": "stream",
     "text": [
      "Found existing installation: uvloop 0.21.0\n",
      "Uninstalling uvloop-0.21.0:\n",
      "  Would remove:\n",
      "    /Users/himanshu.r.singh/Desktop/AgenticAI/agenticAI/lib/python3.13/site-packages/uvloop-0.21.0.dist-info/*\n",
      "    /Users/himanshu.r.singh/Desktop/AgenticAI/agenticAI/lib/python3.13/site-packages/uvloop/*\n",
      "Proceed (Y/n)? ^C\n",
      "Note: you may need to restart the kernel to use updated packages.\n"
     ]
    }
   ],
   "source": [
    "%pip uninstall uvloop"
   ]
  },
  {
   "cell_type": "code",
   "execution_count": 47,
   "id": "b0d5148f",
   "metadata": {},
   "outputs": [
    {
     "name": "stderr",
     "output_type": "stream",
     "text": [
      "Exception in thread Thread-148 (run):\n",
      "Traceback (most recent call last):\n",
      "  File \u001b[35m\"/opt/homebrew/Cellar/python@3.13/3.13.4/Frameworks/Python.framework/Versions/3.13/lib/python3.13/threading.py\"\u001b[0m, line \u001b[35m1043\u001b[0m, in \u001b[35m_bootstrap_inner\u001b[0m\n",
      "    \u001b[31mself.run\u001b[0m\u001b[1;31m()\u001b[0m\n",
      "    \u001b[31m~~~~~~~~\u001b[0m\u001b[1;31m^^\u001b[0m\n",
      "  File \u001b[35m\"/Users/himanshu.r.singh/Desktop/AgenticAI/agenticAI/lib/python3.13/site-packages/ipykernel/ipkernel.py\"\u001b[0m, line \u001b[35m772\u001b[0m, in \u001b[35mrun_closure\u001b[0m\n",
      "    \u001b[31m_threading_Thread_run\u001b[0m\u001b[1;31m(self)\u001b[0m\n",
      "    \u001b[31m~~~~~~~~~~~~~~~~~~~~~\u001b[0m\u001b[1;31m^^^^^^\u001b[0m\n",
      "  File \u001b[35m\"/opt/homebrew/Cellar/python@3.13/3.13.4/Frameworks/Python.framework/Versions/3.13/lib/python3.13/threading.py\"\u001b[0m, line \u001b[35m994\u001b[0m, in \u001b[35mrun\u001b[0m\n",
      "    \u001b[31mself._target\u001b[0m\u001b[1;31m(*self._args, **self._kwargs)\u001b[0m\n",
      "    \u001b[31m~~~~~~~~~~~~\u001b[0m\u001b[1;31m^^^^^^^^^^^^^^^^^^^^^^^^^^^^^\u001b[0m\n",
      "  File \u001b[35m\"/Users/himanshu.r.singh/Desktop/AgenticAI/agenticAI/lib/python3.13/site-packages/uvicorn/server.py\"\u001b[0m, line \u001b[35m67\u001b[0m, in \u001b[35mrun\u001b[0m\n",
      "    return \u001b[31masyncio.run\u001b[0m\u001b[1;31m(self.serve(sockets=sockets))\u001b[0m\n",
      "           \u001b[31m~~~~~~~~~~~\u001b[0m\u001b[1;31m^^^^^^^^^^^^^^^^^^^^^^^^^^^^^\u001b[0m\n",
      "  File \u001b[35m\"/Users/himanshu.r.singh/Desktop/AgenticAI/agenticAI/lib/python3.13/site-packages/nest_asyncio.py\"\u001b[0m, line \u001b[35m26\u001b[0m, in \u001b[35mrun\u001b[0m\n",
      "    loop = asyncio.get_event_loop()\n",
      "  File \u001b[35m\"/Users/himanshu.r.singh/Desktop/AgenticAI/agenticAI/lib/python3.13/site-packages/nest_asyncio.py\"\u001b[0m, line \u001b[35m40\u001b[0m, in \u001b[35m_get_event_loop\u001b[0m\n",
      "    loop = events.get_event_loop_policy().get_event_loop()\n",
      "  File \u001b[35m\"/Users/himanshu.r.singh/Desktop/AgenticAI/agenticAI/lib/python3.13/site-packages/nest_asyncio.py\"\u001b[0m, line \u001b[35m67\u001b[0m, in \u001b[35mget_event_loop\u001b[0m\n",
      "    \u001b[31m_patch_loop\u001b[0m\u001b[1;31m(loop)\u001b[0m\n",
      "    \u001b[31m~~~~~~~~~~~\u001b[0m\u001b[1;31m^^^^^^\u001b[0m\n",
      "  File \u001b[35m\"/Users/himanshu.r.singh/Desktop/AgenticAI/agenticAI/lib/python3.13/site-packages/nest_asyncio.py\"\u001b[0m, line \u001b[35m193\u001b[0m, in \u001b[35m_patch_loop\u001b[0m\n",
      "    raise ValueError('Can\\'t patch loop of type %s' % type(loop))\n",
      "\u001b[1;35mValueError\u001b[0m: \u001b[35mCan't patch loop of type <class 'uvloop.Loop'>\u001b[0m\n",
      "Exception in thread Thread-149 (run):\n",
      "Traceback (most recent call last):\n",
      "  File \u001b[35m\"/opt/homebrew/Cellar/python@3.13/3.13.4/Frameworks/Python.framework/Versions/3.13/lib/python3.13/threading.py\"\u001b[0m, line \u001b[35m1043\u001b[0m, in \u001b[35m_bootstrap_inner\u001b[0m\n",
      "    \u001b[31mself.run\u001b[0m\u001b[1;31m()\u001b[0m\n",
      "    \u001b[31m~~~~~~~~\u001b[0m\u001b[1;31m^^\u001b[0m\n",
      "  File \u001b[35m\"/Users/himanshu.r.singh/Desktop/AgenticAI/agenticAI/lib/python3.13/site-packages/ipykernel/ipkernel.py\"\u001b[0m, line \u001b[35m772\u001b[0m, in \u001b[35mrun_closure\u001b[0m\n",
      "    \u001b[31m_threading_Thread_run\u001b[0m\u001b[1;31m(self)\u001b[0m\n",
      "    \u001b[31m~~~~~~~~~~~~~~~~~~~~~\u001b[0m\u001b[1;31m^^^^^^\u001b[0m\n",
      "  File \u001b[35m\"/opt/homebrew/Cellar/python@3.13/3.13.4/Frameworks/Python.framework/Versions/3.13/lib/python3.13/threading.py\"\u001b[0m, line \u001b[35m994\u001b[0m, in \u001b[35mrun\u001b[0m\n",
      "    \u001b[31mself._target\u001b[0m\u001b[1;31m(*self._args, **self._kwargs)\u001b[0m\n",
      "    \u001b[31m~~~~~~~~~~~~\u001b[0m\u001b[1;31m^^^^^^^^^^^^^^^^^^^^^^^^^^^^^\u001b[0m\n",
      "  File \u001b[35m\"/Users/himanshu.r.singh/Desktop/AgenticAI/agenticAI/lib/python3.13/site-packages/uvicorn/server.py\"\u001b[0m, line \u001b[35m67\u001b[0m, in \u001b[35mrun\u001b[0m\n",
      "    return \u001b[31masyncio.run\u001b[0m\u001b[1;31m(self.serve(sockets=sockets))\u001b[0m\n",
      "           \u001b[31m~~~~~~~~~~~\u001b[0m\u001b[1;31m^^^^^^^^^^^^^^^^^^^^^^^^^^^^^\u001b[0m\n",
      "  File \u001b[35m\"/Users/himanshu.r.singh/Desktop/AgenticAI/agenticAI/lib/python3.13/site-packages/nest_asyncio.py\"\u001b[0m, line \u001b[35m26\u001b[0m, in \u001b[35mrun\u001b[0m\n",
      "    loop = asyncio.get_event_loop()\n",
      "  File \u001b[35m\"/Users/himanshu.r.singh/Desktop/AgenticAI/agenticAI/lib/python3.13/site-packages/nest_asyncio.py\"\u001b[0m, line \u001b[35m40\u001b[0m, in \u001b[35m_get_event_loop\u001b[0m\n",
      "    loop = events.get_event_loop_policy().get_event_loop()\n",
      "  File \u001b[35m\"/Users/himanshu.r.singh/Desktop/AgenticAI/agenticAI/lib/python3.13/site-packages/nest_asyncio.py\"\u001b[0m, line \u001b[35m67\u001b[0m, in \u001b[35mget_event_loop\u001b[0m\n",
      "    \u001b[31m_patch_loop\u001b[0m\u001b[1;31m(loop)\u001b[0m\n",
      "    \u001b[31m~~~~~~~~~~~\u001b[0m\u001b[1;31m^^^^^^\u001b[0m\n",
      "  File \u001b[35m\"/Users/himanshu.r.singh/Desktop/AgenticAI/agenticAI/lib/python3.13/site-packages/nest_asyncio.py\"\u001b[0m, line \u001b[35m193\u001b[0m, in \u001b[35m_patch_loop\u001b[0m\n",
      "    raise ValueError('Can\\'t patch loop of type %s' % type(loop))\n",
      "\u001b[1;35mValueError\u001b[0m: \u001b[35mCan't patch loop of type <class 'uvloop.Loop'>\u001b[0m\n",
      "Exception in thread Thread-150 (run):\n",
      "Traceback (most recent call last):\n",
      "  File \u001b[35m\"/opt/homebrew/Cellar/python@3.13/3.13.4/Frameworks/Python.framework/Versions/3.13/lib/python3.13/threading.py\"\u001b[0m, line \u001b[35m1043\u001b[0m, in \u001b[35m_bootstrap_inner\u001b[0m\n",
      "    \u001b[31mself.run\u001b[0m\u001b[1;31m()\u001b[0m\n",
      "    \u001b[31m~~~~~~~~\u001b[0m\u001b[1;31m^^\u001b[0m\n",
      "  File \u001b[35m\"/Users/himanshu.r.singh/Desktop/AgenticAI/agenticAI/lib/python3.13/site-packages/ipykernel/ipkernel.py\"\u001b[0m, line \u001b[35m772\u001b[0m, in \u001b[35mrun_closure\u001b[0m\n",
      "    \u001b[31m_threading_Thread_run\u001b[0m\u001b[1;31m(self)\u001b[0m\n",
      "    \u001b[31m~~~~~~~~~~~~~~~~~~~~~\u001b[0m\u001b[1;31m^^^^^^\u001b[0m\n",
      "  File \u001b[35m\"/opt/homebrew/Cellar/python@3.13/3.13.4/Frameworks/Python.framework/Versions/3.13/lib/python3.13/threading.py\"\u001b[0m, line \u001b[35m994\u001b[0m, in \u001b[35mrun\u001b[0m\n",
      "    \u001b[31mself._target\u001b[0m\u001b[1;31m(*self._args, **self._kwargs)\u001b[0m\n",
      "    \u001b[31m~~~~~~~~~~~~\u001b[0m\u001b[1;31m^^^^^^^^^^^^^^^^^^^^^^^^^^^^^\u001b[0m\n",
      "  File \u001b[35m\"/Users/himanshu.r.singh/Desktop/AgenticAI/agenticAI/lib/python3.13/site-packages/uvicorn/server.py\"\u001b[0m, line \u001b[35m67\u001b[0m, in \u001b[35mrun\u001b[0m\n",
      "    return \u001b[31masyncio.run\u001b[0m\u001b[1;31m(self.serve(sockets=sockets))\u001b[0m\n",
      "           \u001b[31m~~~~~~~~~~~\u001b[0m\u001b[1;31m^^^^^^^^^^^^^^^^^^^^^^^^^^^^^\u001b[0m\n",
      "  File \u001b[35m\"/Users/himanshu.r.singh/Desktop/AgenticAI/agenticAI/lib/python3.13/site-packages/nest_asyncio.py\"\u001b[0m, line \u001b[35m26\u001b[0m, in \u001b[35mrun\u001b[0m\n",
      "    loop = asyncio.get_event_loop()\n",
      "  File \u001b[35m\"/Users/himanshu.r.singh/Desktop/AgenticAI/agenticAI/lib/python3.13/site-packages/nest_asyncio.py\"\u001b[0m, line \u001b[35m40\u001b[0m, in \u001b[35m_get_event_loop\u001b[0m\n",
      "    loop = events.get_event_loop_policy().get_event_loop()\n",
      "  File \u001b[35m\"/Users/himanshu.r.singh/Desktop/AgenticAI/agenticAI/lib/python3.13/site-packages/nest_asyncio.py\"\u001b[0m, line \u001b[35m67\u001b[0m, in \u001b[35mget_event_loop\u001b[0m\n",
      "    \u001b[31m_patch_loop\u001b[0m\u001b[1;31m(loop)\u001b[0m\n",
      "    \u001b[31m~~~~~~~~~~~\u001b[0m\u001b[1;31m^^^^^^\u001b[0m\n",
      "  File \u001b[35m\"/Users/himanshu.r.singh/Desktop/AgenticAI/agenticAI/lib/python3.13/site-packages/nest_asyncio.py\"\u001b[0m, line \u001b[35m193\u001b[0m, in \u001b[35m_patch_loop\u001b[0m\n",
      "    raise ValueError('Can\\'t patch loop of type %s' % type(loop))\n",
      "\u001b[1;35mValueError\u001b[0m: \u001b[35mCan't patch loop of type <class 'uvloop.Loop'>\u001b[0m\n"
     ]
    },
    {
     "ename": "KeyboardInterrupt",
     "evalue": "",
     "output_type": "error",
     "traceback": [
      "\u001b[31m---------------------------------------------------------------------------\u001b[39m",
      "\u001b[31mKeyboardInterrupt\u001b[39m                         Traceback (most recent call last)",
      "\u001b[36mCell\u001b[39m\u001b[36m \u001b[39m\u001b[32mIn[47]\u001b[39m\u001b[32m, line 8\u001b[39m\n\u001b[32m      5\u001b[39m     result= graph.invoke({\u001b[33m\"\u001b[39m\u001b[33mmessages\u001b[39m\u001b[33m\"\u001b[39m:[{\u001b[33m\"\u001b[39m\u001b[33mrole\u001b[39m\u001b[33m\"\u001b[39m:\u001b[33m\"\u001b[39m\u001b[33muser\u001b[39m\u001b[33m\"\u001b[39m,\u001b[33m\"\u001b[39m\u001b[33mcontent\u001b[39m\u001b[33m\"\u001b[39m:user_input}]},config=config)\n\u001b[32m      6\u001b[39m     \u001b[38;5;28;01mreturn\u001b[39;00m result[\u001b[33m\"\u001b[39m\u001b[33mmessages\u001b[39m\u001b[33m\"\u001b[39m][-\u001b[32m1\u001b[39m].content\n\u001b[32m----> \u001b[39m\u001b[32m8\u001b[39m \u001b[43mgr\u001b[49m\u001b[43m.\u001b[49m\u001b[43mChatInterface\u001b[49m\u001b[43m(\u001b[49m\u001b[43mchat\u001b[49m\u001b[43m,\u001b[49m\u001b[38;5;28;43mtype\u001b[39;49m\u001b[43m=\u001b[49m\u001b[33;43m\"\u001b[39;49m\u001b[33;43mmessages\u001b[39;49m\u001b[33;43m\"\u001b[39;49m\u001b[43m)\u001b[49m\u001b[43m.\u001b[49m\u001b[43mlaunch\u001b[49m\u001b[43m(\u001b[49m\u001b[43m)\u001b[49m\n",
      "\u001b[36mFile \u001b[39m\u001b[32m~/Desktop/AgenticAI/agenticAI/lib/python3.13/site-packages/gradio/blocks.py:2754\u001b[39m, in \u001b[36mBlocks.launch\u001b[39m\u001b[34m(self, inline, inbrowser, share, debug, max_threads, auth, auth_message, prevent_thread_lock, show_error, server_name, server_port, height, width, favicon_path, ssl_keyfile, ssl_certfile, ssl_keyfile_password, ssl_verify, quiet, show_api, allowed_paths, blocked_paths, root_path, app_kwargs, state_session_capacity, share_server_address, share_server_protocol, share_server_tls_certificate, auth_dependency, max_file_size, enable_monitoring, strict_cors, node_server_name, node_port, ssr_mode, pwa, mcp_server, _frontend, i18n)\u001b[39m\n\u001b[32m   2746\u001b[39m \u001b[38;5;28;01melse\u001b[39;00m:\n\u001b[32m   2747\u001b[39m     \u001b[38;5;28;01mfrom\u001b[39;00m\u001b[38;5;250m \u001b[39m\u001b[34;01mgradio\u001b[39;00m\u001b[38;5;250m \u001b[39m\u001b[38;5;28;01mimport\u001b[39;00m http_server\n\u001b[32m   2749\u001b[39m     (\n\u001b[32m   2750\u001b[39m         server_name,\n\u001b[32m   2751\u001b[39m         server_port,\n\u001b[32m   2752\u001b[39m         local_url,\n\u001b[32m   2753\u001b[39m         server,\n\u001b[32m-> \u001b[39m\u001b[32m2754\u001b[39m     ) = \u001b[43mhttp_server\u001b[49m\u001b[43m.\u001b[49m\u001b[43mstart_server\u001b[49m\u001b[43m(\u001b[49m\n\u001b[32m   2755\u001b[39m \u001b[43m        \u001b[49m\u001b[43mapp\u001b[49m\u001b[43m=\u001b[49m\u001b[38;5;28;43mself\u001b[39;49m\u001b[43m.\u001b[49m\u001b[43mapp\u001b[49m\u001b[43m,\u001b[49m\n\u001b[32m   2756\u001b[39m \u001b[43m        \u001b[49m\u001b[43mserver_name\u001b[49m\u001b[43m=\u001b[49m\u001b[43mserver_name\u001b[49m\u001b[43m,\u001b[49m\n\u001b[32m   2757\u001b[39m \u001b[43m        \u001b[49m\u001b[43mserver_port\u001b[49m\u001b[43m=\u001b[49m\u001b[43mserver_port\u001b[49m\u001b[43m,\u001b[49m\n\u001b[32m   2758\u001b[39m \u001b[43m        \u001b[49m\u001b[43mssl_keyfile\u001b[49m\u001b[43m=\u001b[49m\u001b[43mssl_keyfile\u001b[49m\u001b[43m,\u001b[49m\n\u001b[32m   2759\u001b[39m \u001b[43m        \u001b[49m\u001b[43mssl_certfile\u001b[49m\u001b[43m=\u001b[49m\u001b[43mssl_certfile\u001b[49m\u001b[43m,\u001b[49m\n\u001b[32m   2760\u001b[39m \u001b[43m        \u001b[49m\u001b[43mssl_keyfile_password\u001b[49m\u001b[43m=\u001b[49m\u001b[43mssl_keyfile_password\u001b[49m\u001b[43m,\u001b[49m\n\u001b[32m   2761\u001b[39m \u001b[43m    \u001b[49m\u001b[43m)\u001b[49m\n\u001b[32m   2762\u001b[39m \u001b[38;5;28mself\u001b[39m.server_name = server_name\n\u001b[32m   2763\u001b[39m \u001b[38;5;28mself\u001b[39m.local_url = local_url\n",
      "\u001b[36mFile \u001b[39m\u001b[32m~/Desktop/AgenticAI/agenticAI/lib/python3.13/site-packages/gradio/http_server.py:151\u001b[39m, in \u001b[36mstart_server\u001b[39m\u001b[34m(app, server_name, server_port, ssl_keyfile, ssl_certfile, ssl_keyfile_password)\u001b[39m\n\u001b[32m    141\u001b[39m         reloader = SourceFileReloader(\n\u001b[32m    142\u001b[39m             app=app,\n\u001b[32m    143\u001b[39m             watch_dirs=GRADIO_WATCH_DIRS,\n\u001b[32m   (...)\u001b[39m\u001b[32m    148\u001b[39m             watch_module=sys.modules[\u001b[33m\"\u001b[39m\u001b[33m__main__\u001b[39m\u001b[33m\"\u001b[39m],\n\u001b[32m    149\u001b[39m         )\n\u001b[32m    150\u001b[39m     server = Server(config=config, reloader=reloader)\n\u001b[32m--> \u001b[39m\u001b[32m151\u001b[39m     \u001b[43mserver\u001b[49m\u001b[43m.\u001b[49m\u001b[43mrun_in_thread\u001b[49m\u001b[43m(\u001b[49m\u001b[43m)\u001b[49m\n\u001b[32m    152\u001b[39m     \u001b[38;5;28;01mbreak\u001b[39;00m\n\u001b[32m    153\u001b[39m \u001b[38;5;28;01mexcept\u001b[39;00m (\u001b[38;5;167;01mOSError\u001b[39;00m, ServerFailedToStartError):\n",
      "\u001b[36mFile \u001b[39m\u001b[32m~/Desktop/AgenticAI/agenticAI/lib/python3.13/site-packages/gradio/http_server.py:58\u001b[39m, in \u001b[36mServer.run_in_thread\u001b[39m\u001b[34m(self)\u001b[39m\n\u001b[32m     56\u001b[39m start = time.time()\n\u001b[32m     57\u001b[39m \u001b[38;5;28;01mwhile\u001b[39;00m \u001b[38;5;129;01mnot\u001b[39;00m \u001b[38;5;28mself\u001b[39m.started:\n\u001b[32m---> \u001b[39m\u001b[32m58\u001b[39m     \u001b[43mtime\u001b[49m\u001b[43m.\u001b[49m\u001b[43msleep\u001b[49m\u001b[43m(\u001b[49m\u001b[32;43m1e-3\u001b[39;49m\u001b[43m)\u001b[49m\n\u001b[32m     59\u001b[39m     \u001b[38;5;28;01mif\u001b[39;00m time.time() - start > \u001b[32m5\u001b[39m:\n\u001b[32m     60\u001b[39m         \u001b[38;5;28;01mraise\u001b[39;00m ServerFailedToStartError(\n\u001b[32m     61\u001b[39m             \u001b[33m\"\u001b[39m\u001b[33mServer failed to start. Please check that the port is available.\u001b[39m\u001b[33m\"\u001b[39m\n\u001b[32m     62\u001b[39m         )\n",
      "\u001b[31mKeyboardInterrupt\u001b[39m: "
     ]
    }
   ],
   "source": [
    "config={\"configurable\":{\"thread_id\":\"1\"}}\n",
    "\n",
    "# @traceable(name=\"chat\")\n",
    "def chat(user_input:str,history):\n",
    "    result= graph.invoke({\"messages\":[{\"role\":\"user\",\"content\":user_input}]},config=config)\n",
    "    return result[\"messages\"][-1].content\n",
    "\n",
    "gr.ChatInterface(chat,type=\"messages\").launch()"
   ]
  }
 ],
 "metadata": {
  "kernelspec": {
   "display_name": "agenticAI",
   "language": "python",
   "name": "python3"
  },
  "language_info": {
   "codemirror_mode": {
    "name": "ipython",
    "version": 3
   },
   "file_extension": ".py",
   "mimetype": "text/x-python",
   "name": "python",
   "nbconvert_exporter": "python",
   "pygments_lexer": "ipython3",
   "version": "3.13.4"
  }
 },
 "nbformat": 4,
 "nbformat_minor": 5
}
